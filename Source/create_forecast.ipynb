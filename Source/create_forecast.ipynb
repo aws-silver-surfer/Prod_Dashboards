{
 "cells": [
  {
   "cell_type": "code",
   "execution_count": 3,
   "metadata": {},
   "outputs": [
    {
     "data": {
      "text/plain": [
       "True"
      ]
     },
     "execution_count": 3,
     "metadata": {},
     "output_type": "execute_result"
    }
   ],
   "source": [
    "import numpy as np\n",
    "import pandas as pd\n",
    "from pathlib import Path\n",
    "import os\n",
    "from dotenv import load_dotenv\n",
    "from datetime import date\n",
    "load_dotenv()"
   ]
  },
  {
   "cell_type": "code",
   "execution_count": 4,
   "metadata": {},
   "outputs": [],
   "source": [
    "# Path to the directory with the files\n",
    "#dir_path = \"../../../Desktop/2023_Forecast/Input_files/Q5_inputs\"\n",
    "#dir_path = \"/Users/mhausch/Desktop/2023_Forecast/Input_files/Q5_inputs\"\n",
    "dir_path = os.getenv(\"PATH_INPUTS\")\n",
    "#Define the Forecaster\n",
    "Forecaster = \"Country\"\n",
    "subset_for_dropping = \"Q1 2024\"\n",
    "commit_message = \"First submission\""
   ]
  },
  {
   "cell_type": "code",
   "execution_count": 5,
   "metadata": {},
   "outputs": [],
   "source": [
    "path_data = Path(dir_path)\n",
    "list_paths =list(path_data.glob(\"*.xlsx\"))\n",
    "list_file_names = [path.stem for path in list_paths]\n",
    "names = [name.split(\"_\")[1] for name in list_file_names]\n",
    "country_dict = dict(zip(names, list_paths))"
   ]
  },
  {
   "cell_type": "code",
   "execution_count": 6,
   "metadata": {},
   "outputs": [],
   "source": [
    "df = {}\n",
    "for country, file in country_dict.items():\n",
    "    temp_df= pd.read_excel(Path(dir_path)/file, header=1, index_col= 0).iloc[:19, 0:5].dropna(subset=[subset_for_dropping])\n",
    "    temp_df[\"Entity\"] = f\"{country}\"\n",
    "    df[country] = temp_df"
   ]
  },
  {
   "cell_type": "code",
   "execution_count": 7,
   "metadata": {},
   "outputs": [],
   "source": [
    "#Concat all files\n",
    "df_import = pd.concat([v for k,v in df.items()]).reset_index()\n",
    "df_import = df_import.rename(columns={\"index\":\"Category\"})\n",
    "df_import[Forecaster] = Forecaster"
   ]
  },
  {
   "cell_type": "markdown",
   "metadata": {},
   "source": [
    "Next Idea - Create a Dynamodb table to store all the dataframes"
   ]
  },
  {
   "cell_type": "code",
   "execution_count": 8,
   "metadata": {},
   "outputs": [],
   "source": [
    "#@Create a column with the Product\n",
    "\n",
    "#df_import[\"Placeholder\"] = \"Placeholder\"\n",
    "\n",
    "#Function to create the Product attribute based on the index\n",
    "\n",
    "#Output: additional column based on content from other column\n"
   ]
  },
  {
   "cell_type": "code",
   "execution_count": 9,
   "metadata": {},
   "outputs": [],
   "source": [
    "#Apply - Take the dataframe and apply a function to it that has the dataframe as input"
   ]
  },
  {
   "cell_type": "code",
   "execution_count": 10,
   "metadata": {},
   "outputs": [],
   "source": [
    "def create_feature(df):\n",
    "    if \"74\" in df:\n",
    "        return \"G360CDx\"\n",
    "    elif \"84\" in df:\n",
    "        return \"G360 Infinity\"\n",
    "    elif \"Reveal\" in df:\n",
    "        return \"Reveal\"\n",
    "    elif \"Shield\" in df:\n",
    "        return \"Shield\"\n",
    "    else:\n",
    "        return \"None\" "
   ]
  },
  {
   "cell_type": "code",
   "execution_count": 11,
   "metadata": {},
   "outputs": [],
   "source": [
    "#Create a function which determines if the row is a volume, ASP or revenue\n",
    "\n",
    "def create_forecast_category(df):\n",
    "    if \"volume\" in df:\n",
    "        return \"Volume\"\n",
    "    elif \"Average\" in df:\n",
    "        return \"ASP\"\n",
    "    elif \"quarter\" in df:\n",
    "        return \"Revenue\"\n",
    "    else:\n",
    "        return \"None\" "
   ]
  },
  {
   "cell_type": "code",
   "execution_count": 12,
   "metadata": {},
   "outputs": [],
   "source": [
    "df_import[\"Product\"] = df_import[\"Category\"].apply(create_feature )"
   ]
  },
  {
   "cell_type": "code",
   "execution_count": 13,
   "metadata": {},
   "outputs": [],
   "source": [
    "df_import[\"Forecast_Category\"] = df_import[\"Category\"].apply(create_forecast_category )"
   ]
  },
  {
   "cell_type": "code",
   "execution_count": 14,
   "metadata": {},
   "outputs": [],
   "source": [
    "df_import[\"Subission date\"] = date.today()\n",
    "df_import[\"Committ\"] = commit_message\n",
    "df_import = df_import.drop([\"Category\"], axis = 1)\n"
   ]
  },
  {
   "cell_type": "code",
   "execution_count": 15,
   "metadata": {},
   "outputs": [],
   "source": [
    "df_import = df_import.melt(id_vars=['Entity',\n",
    " 'Country',\n",
    " 'Product',\n",
    " 'Forecast_Category',\n",
    " 'Subission date',\n",
    " 'Committ'], \n",
    " value_vars=['Q1 2024',\n",
    " 'Q2 2024',\n",
    " 'Q3 2024',\n",
    " 'Q4 2024',\n",
    " 'Q1 2025'], \n",
    " value_name=\"Forecast_Value\")"
   ]
  },
  {
   "cell_type": "code",
   "execution_count": 16,
   "metadata": {},
   "outputs": [],
   "source": [
    "volume_forecast = df_import[df_import[\"Forecast_Category\"] == \"Volume\"]\n",
    "ASP_forecast = df_import[df_import[\"Forecast_Category\"] == \"ASP\"]"
   ]
  },
  {
   "cell_type": "code",
   "execution_count": 17,
   "metadata": {},
   "outputs": [
    {
     "data": {
      "text/html": [
       "<div>\n",
       "<style scoped>\n",
       "    .dataframe tbody tr th:only-of-type {\n",
       "        vertical-align: middle;\n",
       "    }\n",
       "\n",
       "    .dataframe tbody tr th {\n",
       "        vertical-align: top;\n",
       "    }\n",
       "\n",
       "    .dataframe thead th {\n",
       "        text-align: right;\n",
       "    }\n",
       "</style>\n",
       "<table border=\"1\" class=\"dataframe\">\n",
       "  <thead>\n",
       "    <tr style=\"text-align: right;\">\n",
       "      <th></th>\n",
       "      <th>Entity</th>\n",
       "      <th>Country</th>\n",
       "      <th>Product</th>\n",
       "      <th>Forecast_Category</th>\n",
       "      <th>Subission date</th>\n",
       "      <th>Committ</th>\n",
       "      <th>variable</th>\n",
       "      <th>Forecast_Value</th>\n",
       "    </tr>\n",
       "  </thead>\n",
       "  <tbody>\n",
       "    <tr>\n",
       "      <th>0</th>\n",
       "      <td>France</td>\n",
       "      <td>Country</td>\n",
       "      <td>G360CDx</td>\n",
       "      <td>Volume</td>\n",
       "      <td>2023-11-26</td>\n",
       "      <td>First submission</td>\n",
       "      <td>Q1 2024</td>\n",
       "      <td>50.0</td>\n",
       "    </tr>\n",
       "    <tr>\n",
       "      <th>3</th>\n",
       "      <td>France</td>\n",
       "      <td>Country</td>\n",
       "      <td>G360 Infinity</td>\n",
       "      <td>Volume</td>\n",
       "      <td>2023-11-26</td>\n",
       "      <td>First submission</td>\n",
       "      <td>Q1 2024</td>\n",
       "      <td>0.0</td>\n",
       "    </tr>\n",
       "    <tr>\n",
       "      <th>6</th>\n",
       "      <td>France</td>\n",
       "      <td>Country</td>\n",
       "      <td>Reveal</td>\n",
       "      <td>Volume</td>\n",
       "      <td>2023-11-26</td>\n",
       "      <td>First submission</td>\n",
       "      <td>Q1 2024</td>\n",
       "      <td>0.0</td>\n",
       "    </tr>\n",
       "    <tr>\n",
       "      <th>9</th>\n",
       "      <td>France</td>\n",
       "      <td>Country</td>\n",
       "      <td>Shield</td>\n",
       "      <td>Volume</td>\n",
       "      <td>2023-11-26</td>\n",
       "      <td>First submission</td>\n",
       "      <td>Q1 2024</td>\n",
       "      <td>0.0</td>\n",
       "    </tr>\n",
       "    <tr>\n",
       "      <th>12</th>\n",
       "      <td>Canada</td>\n",
       "      <td>Country</td>\n",
       "      <td>G360CDx</td>\n",
       "      <td>Volume</td>\n",
       "      <td>2023-11-26</td>\n",
       "      <td>First submission</td>\n",
       "      <td>Q1 2024</td>\n",
       "      <td>30.0</td>\n",
       "    </tr>\n",
       "    <tr>\n",
       "      <th>...</th>\n",
       "      <td>...</td>\n",
       "      <td>...</td>\n",
       "      <td>...</td>\n",
       "      <td>...</td>\n",
       "      <td>...</td>\n",
       "      <td>...</td>\n",
       "      <td>...</td>\n",
       "      <td>...</td>\n",
       "    </tr>\n",
       "    <tr>\n",
       "      <th>465</th>\n",
       "      <td>Italy</td>\n",
       "      <td>Country</td>\n",
       "      <td>Shield</td>\n",
       "      <td>Volume</td>\n",
       "      <td>2023-11-26</td>\n",
       "      <td>First submission</td>\n",
       "      <td>Q1 2025</td>\n",
       "      <td>NaN</td>\n",
       "    </tr>\n",
       "    <tr>\n",
       "      <th>468</th>\n",
       "      <td>Turkey</td>\n",
       "      <td>Country</td>\n",
       "      <td>G360CDx</td>\n",
       "      <td>Volume</td>\n",
       "      <td>2023-11-26</td>\n",
       "      <td>First submission</td>\n",
       "      <td>Q1 2025</td>\n",
       "      <td>NaN</td>\n",
       "    </tr>\n",
       "    <tr>\n",
       "      <th>471</th>\n",
       "      <td>Turkey</td>\n",
       "      <td>Country</td>\n",
       "      <td>G360 Infinity</td>\n",
       "      <td>Volume</td>\n",
       "      <td>2023-11-26</td>\n",
       "      <td>First submission</td>\n",
       "      <td>Q1 2025</td>\n",
       "      <td>NaN</td>\n",
       "    </tr>\n",
       "    <tr>\n",
       "      <th>474</th>\n",
       "      <td>Turkey</td>\n",
       "      <td>Country</td>\n",
       "      <td>Reveal</td>\n",
       "      <td>Volume</td>\n",
       "      <td>2023-11-26</td>\n",
       "      <td>First submission</td>\n",
       "      <td>Q1 2025</td>\n",
       "      <td>NaN</td>\n",
       "    </tr>\n",
       "    <tr>\n",
       "      <th>477</th>\n",
       "      <td>Turkey</td>\n",
       "      <td>Country</td>\n",
       "      <td>Shield</td>\n",
       "      <td>Volume</td>\n",
       "      <td>2023-11-26</td>\n",
       "      <td>First submission</td>\n",
       "      <td>Q1 2025</td>\n",
       "      <td>NaN</td>\n",
       "    </tr>\n",
       "  </tbody>\n",
       "</table>\n",
       "<p>160 rows × 8 columns</p>\n",
       "</div>"
      ],
      "text/plain": [
       "     Entity  Country        Product Forecast_Category Subission date  \\\n",
       "0    France  Country        G360CDx            Volume     2023-11-26   \n",
       "3    France  Country  G360 Infinity            Volume     2023-11-26   \n",
       "6    France  Country         Reveal            Volume     2023-11-26   \n",
       "9    France  Country         Shield            Volume     2023-11-26   \n",
       "12   Canada  Country        G360CDx            Volume     2023-11-26   \n",
       "..      ...      ...            ...               ...            ...   \n",
       "465   Italy  Country         Shield            Volume     2023-11-26   \n",
       "468  Turkey  Country        G360CDx            Volume     2023-11-26   \n",
       "471  Turkey  Country  G360 Infinity            Volume     2023-11-26   \n",
       "474  Turkey  Country         Reveal            Volume     2023-11-26   \n",
       "477  Turkey  Country         Shield            Volume     2023-11-26   \n",
       "\n",
       "              Committ variable Forecast_Value  \n",
       "0    First submission  Q1 2024           50.0  \n",
       "3    First submission  Q1 2024            0.0  \n",
       "6    First submission  Q1 2024            0.0  \n",
       "9    First submission  Q1 2024            0.0  \n",
       "12   First submission  Q1 2024           30.0  \n",
       "..                ...      ...            ...  \n",
       "465  First submission  Q1 2025            NaN  \n",
       "468  First submission  Q1 2025            NaN  \n",
       "471  First submission  Q1 2025            NaN  \n",
       "474  First submission  Q1 2025            NaN  \n",
       "477  First submission  Q1 2025            NaN  \n",
       "\n",
       "[160 rows x 8 columns]"
      ]
     },
     "execution_count": 17,
     "metadata": {},
     "output_type": "execute_result"
    }
   ],
   "source": [
    "volume_forecast"
   ]
  }
 ],
 "metadata": {
  "kernelspec": {
   "display_name": "venv",
   "language": "python",
   "name": "python3"
  },
  "language_info": {
   "codemirror_mode": {
    "name": "ipython",
    "version": 3
   },
   "file_extension": ".py",
   "mimetype": "text/x-python",
   "name": "python",
   "nbconvert_exporter": "python",
   "pygments_lexer": "ipython3",
   "version": "3.9.13"
  }
 },
 "nbformat": 4,
 "nbformat_minor": 2
}
