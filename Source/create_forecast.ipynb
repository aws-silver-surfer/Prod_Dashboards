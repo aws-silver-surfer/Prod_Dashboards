{
 "cells": [
  {
   "cell_type": "code",
   "execution_count": 16,
   "metadata": {},
   "outputs": [],
   "source": [
    "import numpy as np\n",
    "import pandas as pd\n",
    "from pathlib import Path\n",
    "import os\n",
    "from datetime import date\n"
   ]
  },
  {
   "cell_type": "code",
   "execution_count": 17,
   "metadata": {},
   "outputs": [],
   "source": [
    "# Path to the directory with the files\n",
    "#dir_path = \"../../../Desktop/2023_Forecast/Input_files/Q5_inputs\"\n",
    "dir_path = \"/Users/mhausch/Desktop/2023_Forecast/Input_files/Q5_inputs\"\n",
    "#Define the Forecaster\n",
    "Forecaster = \"Country\"\n",
    "subset_for_dropping = \"Q1 2024\"\n",
    "commit_message = \"First submission\""
   ]
  },
  {
   "cell_type": "code",
   "execution_count": 18,
   "metadata": {},
   "outputs": [],
   "source": [
    "path_data = Path(dir_path)\n",
    "list_paths =list(path_data.glob(\"*.xlsx\"))\n",
    "list_file_names = [path.stem for path in list_paths]\n",
    "names = [name.split(\"_\")[1] for name in list_file_names]\n",
    "country_dict = dict(zip(names, list_paths))"
   ]
  },
  {
   "cell_type": "code",
   "execution_count": 19,
   "metadata": {},
   "outputs": [
    {
     "data": {
      "text/plain": [
       "(PosixPath('/Users/mhausch/Data/Prod_Dashboards/Source'),\n",
       " PosixPath('/Users/mhausch'))"
      ]
     },
     "execution_count": 19,
     "metadata": {},
     "output_type": "execute_result"
    }
   ],
   "source": [
    "Path.cwd(), Path.home()"
   ]
  },
  {
   "cell_type": "code",
   "execution_count": 20,
   "metadata": {},
   "outputs": [],
   "source": [
    "df = {}\n",
    "for country, file in country_dict.items():\n",
    "    temp_df= pd.read_excel(Path(dir_path)/file, header=1, index_col= 0).iloc[:19, 0:5].dropna(subset=[subset_for_dropping])\n",
    "    temp_df[\"Entity\"] = f\"{country}\"\n",
    "    df[country] = temp_df"
   ]
  },
  {
   "cell_type": "code",
   "execution_count": 21,
   "metadata": {},
   "outputs": [],
   "source": [
    "#Concat all files\n",
    "df_import = pd.concat([v for k,v in df.items()]).reset_index()\n",
    "df_import = df_import.rename(columns={\"index\":\"Category\"})\n",
    "df_import[Forecaster] = Forecaster"
   ]
  },
  {
   "cell_type": "markdown",
   "metadata": {},
   "source": [
    "Next Idea - Create a Dynamodb table to store all the dataframes"
   ]
  },
  {
   "cell_type": "code",
   "execution_count": 22,
   "metadata": {},
   "outputs": [],
   "source": [
    "#@Create a column with the Product\n",
    "\n",
    "#df_import[\"Placeholder\"] = \"Placeholder\"\n",
    "\n",
    "#Function to create the Product attribute based on the index\n",
    "\n",
    "#Output: additional column based on content from other column\n"
   ]
  },
  {
   "cell_type": "code",
   "execution_count": 23,
   "metadata": {},
   "outputs": [],
   "source": [
    "#Apply - Take the dataframe and apply a function to it that has the dataframe as input"
   ]
  },
  {
   "cell_type": "code",
   "execution_count": 24,
   "metadata": {},
   "outputs": [],
   "source": [
    "def create_feature(df):\n",
    "    if \"74\" in df:\n",
    "        return \"G360CDx\"\n",
    "    elif \"84\" in df:\n",
    "        return \"G360 Infinity\"\n",
    "    elif \"Reveal\" in df:\n",
    "        return \"Reveal\"\n",
    "    elif \"Shield\" in df:\n",
    "        return \"Shield\"\n",
    "    else:\n",
    "        return \"None\" "
   ]
  },
  {
   "cell_type": "code",
   "execution_count": 25,
   "metadata": {},
   "outputs": [],
   "source": [
    "#Create a function which determines if the row is a volume, ASP or revenue\n",
    "\n",
    "def create_forecast_category(df):\n",
    "    if \"volume\" in df:\n",
    "        return \"Volume\"\n",
    "    elif \"Average\" in df:\n",
    "        return \"ASP\"\n",
    "    elif \"quarter\" in df:\n",
    "        return \"Revenue\"\n",
    "    else:\n",
    "        return \"None\" "
   ]
  },
  {
   "cell_type": "code",
   "execution_count": 26,
   "metadata": {},
   "outputs": [],
   "source": [
    "df_import[\"Product\"] = df_import[\"Category\"].apply(create_feature )"
   ]
  },
  {
   "cell_type": "code",
   "execution_count": 27,
   "metadata": {},
   "outputs": [],
   "source": [
    "df_import[\"Forecast_Category\"] = df_import[\"Category\"].apply(create_forecast_category )"
   ]
  },
  {
   "cell_type": "code",
   "execution_count": 28,
   "metadata": {},
   "outputs": [],
   "source": [
    "df_import[\"Subission date\"] = date.today()\n",
    "df_import[\"Committ\"] = commit_message\n",
    "df_import = df_import.drop([\"Category\"], axis = 1)\n"
   ]
  },
  {
   "cell_type": "code",
   "execution_count": 29,
   "metadata": {},
   "outputs": [
    {
     "data": {
      "text/html": [
       "<div>\n",
       "<style scoped>\n",
       "    .dataframe tbody tr th:only-of-type {\n",
       "        vertical-align: middle;\n",
       "    }\n",
       "\n",
       "    .dataframe tbody tr th {\n",
       "        vertical-align: top;\n",
       "    }\n",
       "\n",
       "    .dataframe thead th {\n",
       "        text-align: right;\n",
       "    }\n",
       "</style>\n",
       "<table border=\"1\" class=\"dataframe\">\n",
       "  <thead>\n",
       "    <tr style=\"text-align: right;\">\n",
       "      <th></th>\n",
       "      <th>Q1 2024</th>\n",
       "      <th>Q2 2024</th>\n",
       "      <th>Q3 2024</th>\n",
       "      <th>Q4 2024</th>\n",
       "      <th>Q1 2025</th>\n",
       "      <th>Entity</th>\n",
       "      <th>Country</th>\n",
       "      <th>Product</th>\n",
       "      <th>Forecast_Category</th>\n",
       "      <th>Subission date</th>\n",
       "      <th>Committ</th>\n",
       "    </tr>\n",
       "  </thead>\n",
       "  <tbody>\n",
       "    <tr>\n",
       "      <th>0</th>\n",
       "      <td>50.0</td>\n",
       "      <td>100.0</td>\n",
       "      <td>140.0</td>\n",
       "      <td>190.0</td>\n",
       "      <td>NaN</td>\n",
       "      <td>France</td>\n",
       "      <td>Country</td>\n",
       "      <td>G360CDx</td>\n",
       "      <td>Volume</td>\n",
       "      <td>2023-11-26</td>\n",
       "      <td>First submission</td>\n",
       "    </tr>\n",
       "    <tr>\n",
       "      <th>1</th>\n",
       "      <td>1100.0</td>\n",
       "      <td>1100.0</td>\n",
       "      <td>1100.0</td>\n",
       "      <td>1100.0</td>\n",
       "      <td>NaN</td>\n",
       "      <td>France</td>\n",
       "      <td>Country</td>\n",
       "      <td>G360CDx</td>\n",
       "      <td>ASP</td>\n",
       "      <td>2023-11-26</td>\n",
       "      <td>First submission</td>\n",
       "    </tr>\n",
       "  </tbody>\n",
       "</table>\n",
       "</div>"
      ],
      "text/plain": [
       "  Q1 2024 Q2 2024 Q3 2024 Q4 2024  Q1 2025  Entity  Country  Product  \\\n",
       "0    50.0   100.0   140.0   190.0      NaN  France  Country  G360CDx   \n",
       "1  1100.0  1100.0  1100.0  1100.0      NaN  France  Country  G360CDx   \n",
       "\n",
       "  Forecast_Category Subission date           Committ  \n",
       "0            Volume     2023-11-26  First submission  \n",
       "1               ASP     2023-11-26  First submission  "
      ]
     },
     "execution_count": 29,
     "metadata": {},
     "output_type": "execute_result"
    }
   ],
   "source": [
    "df_import.head(2)"
   ]
  },
  {
   "cell_type": "code",
   "execution_count": 33,
   "metadata": {},
   "outputs": [],
   "source": [
    "volume_forecast = df_import[df_import[\"Forecast_Category\"] == \"Volume\"]\n",
    "ASP_forecast = df_import[df_import[\"Forecast_Category\"] == \"ASP\"]"
   ]
  },
  {
   "cell_type": "code",
   "execution_count": 35,
   "metadata": {},
   "outputs": [
    {
     "data": {
      "text/plain": [
       "['Q1 2024',\n",
       " 'Q2 2024',\n",
       " 'Q3 2024',\n",
       " 'Q4 2024',\n",
       " 'Q1 2025',\n",
       " 'Entity',\n",
       " 'Country',\n",
       " 'Product',\n",
       " 'Forecast_Category',\n",
       " 'Subission date',\n",
       " 'Committ']"
      ]
     },
     "execution_count": 35,
     "metadata": {},
     "output_type": "execute_result"
    }
   ],
   "source": [
    "df_import.columns.to_list()"
   ]
  },
  {
   "cell_type": "code",
   "execution_count": 37,
   "metadata": {},
   "outputs": [
    {
     "data": {
      "text/html": [
       "<div>\n",
       "<style scoped>\n",
       "    .dataframe tbody tr th:only-of-type {\n",
       "        vertical-align: middle;\n",
       "    }\n",
       "\n",
       "    .dataframe tbody tr th {\n",
       "        vertical-align: top;\n",
       "    }\n",
       "\n",
       "    .dataframe thead th {\n",
       "        text-align: right;\n",
       "    }\n",
       "</style>\n",
       "<table border=\"1\" class=\"dataframe\">\n",
       "  <thead>\n",
       "    <tr style=\"text-align: right;\">\n",
       "      <th></th>\n",
       "      <th>Entity</th>\n",
       "      <th>Country</th>\n",
       "      <th>Product</th>\n",
       "      <th>Forecast_Category</th>\n",
       "      <th>Subission date</th>\n",
       "      <th>Committ</th>\n",
       "      <th>variable</th>\n",
       "      <th>Forecast_Value</th>\n",
       "    </tr>\n",
       "  </thead>\n",
       "  <tbody>\n",
       "    <tr>\n",
       "      <th>0</th>\n",
       "      <td>France</td>\n",
       "      <td>Country</td>\n",
       "      <td>G360CDx</td>\n",
       "      <td>Volume</td>\n",
       "      <td>2023-11-26</td>\n",
       "      <td>First submission</td>\n",
       "      <td>Q1 2024</td>\n",
       "      <td>50.0</td>\n",
       "    </tr>\n",
       "    <tr>\n",
       "      <th>1</th>\n",
       "      <td>France</td>\n",
       "      <td>Country</td>\n",
       "      <td>G360CDx</td>\n",
       "      <td>ASP</td>\n",
       "      <td>2023-11-26</td>\n",
       "      <td>First submission</td>\n",
       "      <td>Q1 2024</td>\n",
       "      <td>1100.0</td>\n",
       "    </tr>\n",
       "    <tr>\n",
       "      <th>2</th>\n",
       "      <td>France</td>\n",
       "      <td>Country</td>\n",
       "      <td>G360CDx</td>\n",
       "      <td>Revenue</td>\n",
       "      <td>2023-11-26</td>\n",
       "      <td>First submission</td>\n",
       "      <td>Q1 2024</td>\n",
       "      <td>55000.0</td>\n",
       "    </tr>\n",
       "    <tr>\n",
       "      <th>3</th>\n",
       "      <td>France</td>\n",
       "      <td>Country</td>\n",
       "      <td>G360 Infinity</td>\n",
       "      <td>Volume</td>\n",
       "      <td>2023-11-26</td>\n",
       "      <td>First submission</td>\n",
       "      <td>Q1 2024</td>\n",
       "      <td>0.0</td>\n",
       "    </tr>\n",
       "    <tr>\n",
       "      <th>4</th>\n",
       "      <td>France</td>\n",
       "      <td>Country</td>\n",
       "      <td>G360 Infinity</td>\n",
       "      <td>ASP</td>\n",
       "      <td>2023-11-26</td>\n",
       "      <td>First submission</td>\n",
       "      <td>Q1 2024</td>\n",
       "      <td>0.0</td>\n",
       "    </tr>\n",
       "    <tr>\n",
       "      <th>...</th>\n",
       "      <td>...</td>\n",
       "      <td>...</td>\n",
       "      <td>...</td>\n",
       "      <td>...</td>\n",
       "      <td>...</td>\n",
       "      <td>...</td>\n",
       "      <td>...</td>\n",
       "      <td>...</td>\n",
       "    </tr>\n",
       "    <tr>\n",
       "      <th>475</th>\n",
       "      <td>Turkey</td>\n",
       "      <td>Country</td>\n",
       "      <td>Reveal</td>\n",
       "      <td>ASP</td>\n",
       "      <td>2023-11-26</td>\n",
       "      <td>First submission</td>\n",
       "      <td>Q1 2025</td>\n",
       "      <td>NaN</td>\n",
       "    </tr>\n",
       "    <tr>\n",
       "      <th>476</th>\n",
       "      <td>Turkey</td>\n",
       "      <td>Country</td>\n",
       "      <td>Reveal</td>\n",
       "      <td>Revenue</td>\n",
       "      <td>2023-11-26</td>\n",
       "      <td>First submission</td>\n",
       "      <td>Q1 2025</td>\n",
       "      <td>NaN</td>\n",
       "    </tr>\n",
       "    <tr>\n",
       "      <th>477</th>\n",
       "      <td>Turkey</td>\n",
       "      <td>Country</td>\n",
       "      <td>Shield</td>\n",
       "      <td>Volume</td>\n",
       "      <td>2023-11-26</td>\n",
       "      <td>First submission</td>\n",
       "      <td>Q1 2025</td>\n",
       "      <td>NaN</td>\n",
       "    </tr>\n",
       "    <tr>\n",
       "      <th>478</th>\n",
       "      <td>Turkey</td>\n",
       "      <td>Country</td>\n",
       "      <td>Shield</td>\n",
       "      <td>ASP</td>\n",
       "      <td>2023-11-26</td>\n",
       "      <td>First submission</td>\n",
       "      <td>Q1 2025</td>\n",
       "      <td>NaN</td>\n",
       "    </tr>\n",
       "    <tr>\n",
       "      <th>479</th>\n",
       "      <td>Turkey</td>\n",
       "      <td>Country</td>\n",
       "      <td>Shield</td>\n",
       "      <td>Revenue</td>\n",
       "      <td>2023-11-26</td>\n",
       "      <td>First submission</td>\n",
       "      <td>Q1 2025</td>\n",
       "      <td>NaN</td>\n",
       "    </tr>\n",
       "  </tbody>\n",
       "</table>\n",
       "<p>480 rows × 8 columns</p>\n",
       "</div>"
      ],
      "text/plain": [
       "     Entity  Country        Product Forecast_Category Subission date  \\\n",
       "0    France  Country        G360CDx            Volume     2023-11-26   \n",
       "1    France  Country        G360CDx               ASP     2023-11-26   \n",
       "2    France  Country        G360CDx           Revenue     2023-11-26   \n",
       "3    France  Country  G360 Infinity            Volume     2023-11-26   \n",
       "4    France  Country  G360 Infinity               ASP     2023-11-26   \n",
       "..      ...      ...            ...               ...            ...   \n",
       "475  Turkey  Country         Reveal               ASP     2023-11-26   \n",
       "476  Turkey  Country         Reveal           Revenue     2023-11-26   \n",
       "477  Turkey  Country         Shield            Volume     2023-11-26   \n",
       "478  Turkey  Country         Shield               ASP     2023-11-26   \n",
       "479  Turkey  Country         Shield           Revenue     2023-11-26   \n",
       "\n",
       "              Committ variable Forecast_Value  \n",
       "0    First submission  Q1 2024           50.0  \n",
       "1    First submission  Q1 2024         1100.0  \n",
       "2    First submission  Q1 2024        55000.0  \n",
       "3    First submission  Q1 2024            0.0  \n",
       "4    First submission  Q1 2024            0.0  \n",
       "..                ...      ...            ...  \n",
       "475  First submission  Q1 2025            NaN  \n",
       "476  First submission  Q1 2025            NaN  \n",
       "477  First submission  Q1 2025            NaN  \n",
       "478  First submission  Q1 2025            NaN  \n",
       "479  First submission  Q1 2025            NaN  \n",
       "\n",
       "[480 rows x 8 columns]"
      ]
     },
     "execution_count": 37,
     "metadata": {},
     "output_type": "execute_result"
    }
   ],
   "source": [
    "df_import.melt(id_vars=['Entity',\n",
    " 'Country',\n",
    " 'Product',\n",
    " 'Forecast_Category',\n",
    " 'Subission date',\n",
    " 'Committ'], value_vars=['Q1 2024',\n",
    " 'Q2 2024',\n",
    " 'Q3 2024',\n",
    " 'Q4 2024',\n",
    " 'Q1 2025'], value_name=\"Forecast_Value\")"
   ]
  },
  {
   "cell_type": "code",
   "execution_count": null,
   "metadata": {},
   "outputs": [],
   "source": [
    "pd.melt(df, id_vars=, value_vars=, var_name=, value_name=, ignore_index=)"
   ]
  },
  {
   "cell_type": "markdown",
   "metadata": {},
   "source": [
    "### Old function"
   ]
  },
  {
   "cell_type": "code",
   "execution_count": 32,
   "metadata": {},
   "outputs": [
    {
     "ename": "NameError",
     "evalue": "name 'forecast' is not defined",
     "output_type": "error",
     "traceback": [
      "\u001b[0;31m---------------------------------------------------------------------------\u001b[0m",
      "\u001b[0;31mNameError\u001b[0m                                 Traceback (most recent call last)",
      "\u001b[1;32m/Users/mhausch/Data/Prod_Dashboards/Source/create_forecast.ipynb Cell 19\u001b[0m line \u001b[0;36m3\n\u001b[1;32m      <a href='vscode-notebook-cell:/Users/mhausch/Data/Prod_Dashboards/Source/create_forecast.ipynb#X54sZmlsZQ%3D%3D?line=0'>1</a>\u001b[0m \u001b[39m#Function to transform raw input of each Excel sheet into one dataframe\u001b[39;00m\n\u001b[0;32m----> <a href='vscode-notebook-cell:/Users/mhausch/Data/Prod_Dashboards/Source/create_forecast.ipynb#X54sZmlsZQ%3D%3D?line=2'>3</a>\u001b[0m \u001b[39mdef\u001b[39;00m \u001b[39mcreate_forecast_df\u001b[39m(data_import \u001b[39m=\u001b[39m forecast):\n\u001b[1;32m      <a href='vscode-notebook-cell:/Users/mhausch/Data/Prod_Dashboards/Source/create_forecast.ipynb#X54sZmlsZQ%3D%3D?line=3'>4</a>\u001b[0m     \n\u001b[1;32m      <a href='vscode-notebook-cell:/Users/mhausch/Data/Prod_Dashboards/Source/create_forecast.ipynb#X54sZmlsZQ%3D%3D?line=4'>5</a>\u001b[0m    \n\u001b[1;32m      <a href='vscode-notebook-cell:/Users/mhausch/Data/Prod_Dashboards/Source/create_forecast.ipynb#X54sZmlsZQ%3D%3D?line=5'>6</a>\u001b[0m \u001b[39m#Reset index\u001b[39;00m\n\u001b[1;32m      <a href='vscode-notebook-cell:/Users/mhausch/Data/Prod_Dashboards/Source/create_forecast.ipynb#X54sZmlsZQ%3D%3D?line=6'>7</a>\u001b[0m     data_import \u001b[39m=\u001b[39m data_import\u001b[39m.\u001b[39mreset_index()\n\u001b[1;32m      <a href='vscode-notebook-cell:/Users/mhausch/Data/Prod_Dashboards/Source/create_forecast.ipynb#X54sZmlsZQ%3D%3D?line=7'>8</a>\u001b[0m \u001b[39m#Rename columns\u001b[39;00m\n",
      "\u001b[0;31mNameError\u001b[0m: name 'forecast' is not defined"
     ]
    }
   ],
   "source": [
    "#Function to transform raw input of each Excel sheet into one dataframe\n",
    "\n",
    "def create_forecast_df(data_import = forecast):\n",
    "    \n",
    "   \n",
    "#Reset index\n",
    "    data_import = data_import.reset_index()\n",
    "#Rename columns\n",
    "\n",
    "    data_import = data_import.rename(columns={\"Unnamed: 0\": \"Forecaster\", \"index\": \"Category\"})\n",
    "    \n",
    "    excel_melted = data_import.melt(id_vars=[\"Category\", \"Forecaster\", \"Country\"], value_vars=['Q4 2023', 'Q1 2024', 'Q2 2024', 'Q3 2024',\n",
    "       'Q4 2024'], var_name = \"Time\" )\n",
    "    excel_melted[\"Product\"] = \"Placeholder\"\n",
    "    excel_melted[\"Product\"][excel_melted[\"Category\"].str.contains(\"74\", regex=False)] =\"G360 CDx\"\n",
    "    excel_melted[\"Product\"][excel_melted[\"Category\"].str.contains(\"84\", regex=False)] =\"G360 Infinity\"\n",
    "    excel_melted[\"Product\"][excel_melted[\"Category\"].str.contains(\"Reveal\", regex=False)] =\"Reveal\"\n",
    "    excel_melted[\"Product\"][excel_melted[\"Category\"].str.contains(\"Shield\", regex=False)] =\"Shield\"\n",
    "    excel_melted[\"Forecast_category\"] = \"Placeholder\"\n",
    "    excel_melted[\"Forecast_category\"][excel_melted[\"Category\"].str.contains(\"volume\", regex=False)] =\"Volume\"\n",
    "    excel_melted[\"Forecast_category\"][excel_melted[\"Category\"].str.contains(\"Average\", regex=False)] =\"ASP\"\n",
    "    file_name = Path(\"./5QRF_template_Q4_23_Q4_24_v1.xlsx\").stem.split(\"_\")[2:4]\n",
    "    excel_melted[\"5QRF_Starting_Quarter\"] = \"_\".join(file_name)\n",
    "    excel_melted= excel_melted[excel_melted[\"Forecast_category\"] != \"Placeholder\"]\n",
    "    excel_melted= excel_melted[excel_melted[\"Product\"] != \"Placeholder\"]\n",
    "    excel_melted[\"value\"] = excel_melted[\"value\"].astype(\"int64\")\n",
    "    excel_melted= excel_melted.pivot(index =['Forecaster', 'Country', 'Time', 'Product', '5QRF_Starting_Quarter'], columns = 'Forecast_category',values = \"value\")\n",
    "    excel_melted = excel_melted.reset_index()\n",
    "    return excel_melted"
   ]
  },
  {
   "cell_type": "code",
   "execution_count": null,
   "metadata": {},
   "outputs": [],
   "source": []
  }
 ],
 "metadata": {
  "kernelspec": {
   "display_name": "venv",
   "language": "python",
   "name": "python3"
  },
  "language_info": {
   "codemirror_mode": {
    "name": "ipython",
    "version": 3
   },
   "file_extension": ".py",
   "mimetype": "text/x-python",
   "name": "python",
   "nbconvert_exporter": "python",
   "pygments_lexer": "ipython3",
   "version": "3.9.13"
  }
 },
 "nbformat": 4,
 "nbformat_minor": 2
}
