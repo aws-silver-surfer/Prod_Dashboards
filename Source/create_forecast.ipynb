{
 "cells": [
  {
   "cell_type": "code",
   "execution_count": 1,
   "metadata": {},
   "outputs": [
    {
     "data": {
      "text/plain": [
       "True"
      ]
     },
     "execution_count": 1,
     "metadata": {},
     "output_type": "execute_result"
    }
   ],
   "source": [
    "import numpy as np\n",
    "import pandas as pd\n",
    "from pathlib import Path\n",
    "import os\n",
    "from dotenv import load_dotenv\n",
    "from datetime import date\n",
    "load_dotenv()"
   ]
  },
  {
   "cell_type": "code",
   "execution_count": 2,
   "metadata": {},
   "outputs": [],
   "source": [
    "# Path to the directory with the files\n",
    "#dir_path = \"../../../Desktop/2023_Forecast/Input_files/Q5_inputs\"\n",
    "#dir_path = \"/Users/mhausch/Desktop/2023_Forecast/Input_files/Q5_inputs\"\n",
    "dir_path = os.getenv(\"PATH_INPUTS\")\n",
    "#Define the Forecaster\n",
    "Forecaster = \"Country\"\n",
    "subset_for_dropping = \"Q1 2024\"\n",
    "commit_message = \"First submission\"\n",
    "submission_quarter = \"Q1_2024\""
   ]
  },
  {
   "cell_type": "code",
   "execution_count": 3,
   "metadata": {},
   "outputs": [],
   "source": [
    "path_data = Path(dir_path)\n",
    "list_paths =list(path_data.glob(\"*.xlsx\"))\n",
    "list_file_names = [path.stem for path in list_paths]\n",
    "names = [name.split(\"_\")[1] for name in list_file_names]\n",
    "country_dict = dict(zip(names, list_paths))"
   ]
  },
  {
   "cell_type": "code",
   "execution_count": 4,
   "metadata": {},
   "outputs": [
    {
     "data": {
      "text/plain": [
       "['5QRF_France_Q1_24',\n",
       " '5QRF_Canada_Q1_24',\n",
       " '5QRF_Spain_Q1_24',\n",
       " '5QRF_South_America_Q1_24',\n",
       " '5QRF_RestEUAA_Q1_2024',\n",
       " '5QRF_United_Kingdom_Q1_24',\n",
       " '5QRF_Italy_Q1_2024',\n",
       " '5QRF_Turkey_Q1_2024']"
      ]
     },
     "execution_count": 4,
     "metadata": {},
     "output_type": "execute_result"
    }
   ],
   "source": [
    "list_file_names"
   ]
  },
  {
   "cell_type": "code",
   "execution_count": 5,
   "metadata": {},
   "outputs": [],
   "source": [
    "df = {}\n",
    "for country, file in country_dict.items():\n",
    "    temp_df= pd.read_excel(Path(dir_path)/file, header=1, index_col= 0).iloc[:19, 0:5].dropna(subset=[subset_for_dropping])\n",
    "    temp_df[\"Entity\"] = f\"{country}\"\n",
    "    df[country] = temp_df"
   ]
  },
  {
   "cell_type": "code",
   "execution_count": 6,
   "metadata": {},
   "outputs": [],
   "source": [
    "#Concat all files\n",
    "df_import = pd.concat([v for k,v in df.items()]).reset_index()\n",
    "df_import = df_import.rename(columns={\"index\":\"Category\"})\n",
    "df_import[Forecaster] = Forecaster"
   ]
  },
  {
   "cell_type": "code",
   "execution_count": 7,
   "metadata": {},
   "outputs": [],
   "source": [
    "def create_feature(df):\n",
    "    if \"74\" in df:\n",
    "        return \"G360CDx\"\n",
    "    elif \"84\" in df:\n",
    "        return \"G360 Infinity\"\n",
    "    elif \"Reveal\" in df:\n",
    "        return \"Reveal\"\n",
    "    elif \"Shield\" in df:\n",
    "        return \"Shield\"\n",
    "    else:\n",
    "        return \"None\" "
   ]
  },
  {
   "cell_type": "code",
   "execution_count": 8,
   "metadata": {},
   "outputs": [],
   "source": [
    "#Create a function which determines if the row is a volume, ASP or revenue\n",
    "\n",
    "def create_forecast_category(df):\n",
    "    if \"volume\" in df:\n",
    "        return \"Volume\"\n",
    "    elif \"Average\" in df:\n",
    "        return \"ASP\"\n",
    "    elif \"quarter\" in df:\n",
    "        return \"Revenue\"\n",
    "    else:\n",
    "        return \"None\" "
   ]
  },
  {
   "cell_type": "code",
   "execution_count": 9,
   "metadata": {},
   "outputs": [],
   "source": [
    "df_import[\"Product\"] = df_import[\"Category\"].apply(create_feature )"
   ]
  },
  {
   "cell_type": "code",
   "execution_count": 10,
   "metadata": {},
   "outputs": [],
   "source": [
    "df_import[\"Forecast_Category\"] = df_import[\"Category\"].apply(create_forecast_category )"
   ]
  },
  {
   "cell_type": "code",
   "execution_count": 11,
   "metadata": {},
   "outputs": [],
   "source": [
    "df_import[\"Submission date\"] = date.today()\n",
    "df_import[\"Committ\"] = commit_message\n",
    "df_import = df_import.drop([\"Category\"], axis = 1)\n"
   ]
  },
  {
   "cell_type": "code",
   "execution_count": 12,
   "metadata": {},
   "outputs": [],
   "source": [
    "df_import = df_import.melt(id_vars=['Entity',\n",
    " 'Country',\n",
    " 'Product',\n",
    " 'Forecast_Category',\n",
    " 'Submission date',\n",
    " 'Committ'], \n",
    " value_vars=['Q1 2024',\n",
    " 'Q2 2024',\n",
    " 'Q3 2024',\n",
    " 'Q4 2024',\n",
    " 'Q1 2025'], \n",
    " value_name=\"Forecast_Value\",\n",
    " var_name = \"Quarter\")\n",
    "\n",
    "df_import[\"Submission_quarter\"] = submission_quarter"
   ]
  },
  {
   "cell_type": "code",
   "execution_count": 13,
   "metadata": {},
   "outputs": [],
   "source": [
    "volume_forecast = df_import[df_import[\"Forecast_Category\"] == \"Volume\"]\n",
    "ASP_forecast = df_import[df_import[\"Forecast_Category\"] == \"ASP\"]"
   ]
  },
  {
   "cell_type": "code",
   "execution_count": 14,
   "metadata": {},
   "outputs": [],
   "source": [
    "# Save the dataframes as csv-files\n",
    "\n",
    "df_import.to_csv(f\"../Data/country_forecast_{submission_quarter}.csv\", index= False)\n",
    "volume_forecast.to_csv(f\"../Data/volume_forecast_{submission_quarter}.csv\", index= False)\n",
    "ASP_forecast.to_csv(f\"../Data/ASP_forecast_{submission_quarter}.csv\", index= False)\n"
   ]
  },
  {
   "cell_type": "code",
   "execution_count": 15,
   "metadata": {},
   "outputs": [
    {
     "data": {
      "text/html": [
       "<div>\n",
       "<style scoped>\n",
       "    .dataframe tbody tr th:only-of-type {\n",
       "        vertical-align: middle;\n",
       "    }\n",
       "\n",
       "    .dataframe tbody tr th {\n",
       "        vertical-align: top;\n",
       "    }\n",
       "\n",
       "    .dataframe thead th {\n",
       "        text-align: right;\n",
       "    }\n",
       "</style>\n",
       "<table border=\"1\" class=\"dataframe\">\n",
       "  <thead>\n",
       "    <tr style=\"text-align: right;\">\n",
       "      <th></th>\n",
       "      <th>Entity</th>\n",
       "      <th>Country</th>\n",
       "      <th>Product</th>\n",
       "      <th>Forecast_Category</th>\n",
       "      <th>Submission date</th>\n",
       "      <th>Committ</th>\n",
       "      <th>Quarter</th>\n",
       "      <th>Forecast_Value</th>\n",
       "      <th>Submission_quarter</th>\n",
       "    </tr>\n",
       "  </thead>\n",
       "  <tbody>\n",
       "    <tr>\n",
       "      <th>0</th>\n",
       "      <td>France</td>\n",
       "      <td>Country</td>\n",
       "      <td>G360CDx</td>\n",
       "      <td>Volume</td>\n",
       "      <td>2023-12-09</td>\n",
       "      <td>First submission</td>\n",
       "      <td>Q1 2024</td>\n",
       "      <td>50.0</td>\n",
       "      <td>Q1_2024</td>\n",
       "    </tr>\n",
       "    <tr>\n",
       "      <th>3</th>\n",
       "      <td>France</td>\n",
       "      <td>Country</td>\n",
       "      <td>G360 Infinity</td>\n",
       "      <td>Volume</td>\n",
       "      <td>2023-12-09</td>\n",
       "      <td>First submission</td>\n",
       "      <td>Q1 2024</td>\n",
       "      <td>0.0</td>\n",
       "      <td>Q1_2024</td>\n",
       "    </tr>\n",
       "    <tr>\n",
       "      <th>6</th>\n",
       "      <td>France</td>\n",
       "      <td>Country</td>\n",
       "      <td>Reveal</td>\n",
       "      <td>Volume</td>\n",
       "      <td>2023-12-09</td>\n",
       "      <td>First submission</td>\n",
       "      <td>Q1 2024</td>\n",
       "      <td>0.0</td>\n",
       "      <td>Q1_2024</td>\n",
       "    </tr>\n",
       "    <tr>\n",
       "      <th>9</th>\n",
       "      <td>France</td>\n",
       "      <td>Country</td>\n",
       "      <td>Shield</td>\n",
       "      <td>Volume</td>\n",
       "      <td>2023-12-09</td>\n",
       "      <td>First submission</td>\n",
       "      <td>Q1 2024</td>\n",
       "      <td>0.0</td>\n",
       "      <td>Q1_2024</td>\n",
       "    </tr>\n",
       "    <tr>\n",
       "      <th>12</th>\n",
       "      <td>Canada</td>\n",
       "      <td>Country</td>\n",
       "      <td>G360CDx</td>\n",
       "      <td>Volume</td>\n",
       "      <td>2023-12-09</td>\n",
       "      <td>First submission</td>\n",
       "      <td>Q1 2024</td>\n",
       "      <td>30.0</td>\n",
       "      <td>Q1_2024</td>\n",
       "    </tr>\n",
       "    <tr>\n",
       "      <th>...</th>\n",
       "      <td>...</td>\n",
       "      <td>...</td>\n",
       "      <td>...</td>\n",
       "      <td>...</td>\n",
       "      <td>...</td>\n",
       "      <td>...</td>\n",
       "      <td>...</td>\n",
       "      <td>...</td>\n",
       "      <td>...</td>\n",
       "    </tr>\n",
       "    <tr>\n",
       "      <th>465</th>\n",
       "      <td>Italy</td>\n",
       "      <td>Country</td>\n",
       "      <td>Shield</td>\n",
       "      <td>Volume</td>\n",
       "      <td>2023-12-09</td>\n",
       "      <td>First submission</td>\n",
       "      <td>Q1 2025</td>\n",
       "      <td>NaN</td>\n",
       "      <td>Q1_2024</td>\n",
       "    </tr>\n",
       "    <tr>\n",
       "      <th>468</th>\n",
       "      <td>Turkey</td>\n",
       "      <td>Country</td>\n",
       "      <td>G360CDx</td>\n",
       "      <td>Volume</td>\n",
       "      <td>2023-12-09</td>\n",
       "      <td>First submission</td>\n",
       "      <td>Q1 2025</td>\n",
       "      <td>NaN</td>\n",
       "      <td>Q1_2024</td>\n",
       "    </tr>\n",
       "    <tr>\n",
       "      <th>471</th>\n",
       "      <td>Turkey</td>\n",
       "      <td>Country</td>\n",
       "      <td>G360 Infinity</td>\n",
       "      <td>Volume</td>\n",
       "      <td>2023-12-09</td>\n",
       "      <td>First submission</td>\n",
       "      <td>Q1 2025</td>\n",
       "      <td>NaN</td>\n",
       "      <td>Q1_2024</td>\n",
       "    </tr>\n",
       "    <tr>\n",
       "      <th>474</th>\n",
       "      <td>Turkey</td>\n",
       "      <td>Country</td>\n",
       "      <td>Reveal</td>\n",
       "      <td>Volume</td>\n",
       "      <td>2023-12-09</td>\n",
       "      <td>First submission</td>\n",
       "      <td>Q1 2025</td>\n",
       "      <td>NaN</td>\n",
       "      <td>Q1_2024</td>\n",
       "    </tr>\n",
       "    <tr>\n",
       "      <th>477</th>\n",
       "      <td>Turkey</td>\n",
       "      <td>Country</td>\n",
       "      <td>Shield</td>\n",
       "      <td>Volume</td>\n",
       "      <td>2023-12-09</td>\n",
       "      <td>First submission</td>\n",
       "      <td>Q1 2025</td>\n",
       "      <td>NaN</td>\n",
       "      <td>Q1_2024</td>\n",
       "    </tr>\n",
       "  </tbody>\n",
       "</table>\n",
       "<p>160 rows × 9 columns</p>\n",
       "</div>"
      ],
      "text/plain": [
       "     Entity  Country        Product Forecast_Category Submission date  \\\n",
       "0    France  Country        G360CDx            Volume      2023-12-09   \n",
       "3    France  Country  G360 Infinity            Volume      2023-12-09   \n",
       "6    France  Country         Reveal            Volume      2023-12-09   \n",
       "9    France  Country         Shield            Volume      2023-12-09   \n",
       "12   Canada  Country        G360CDx            Volume      2023-12-09   \n",
       "..      ...      ...            ...               ...             ...   \n",
       "465   Italy  Country         Shield            Volume      2023-12-09   \n",
       "468  Turkey  Country        G360CDx            Volume      2023-12-09   \n",
       "471  Turkey  Country  G360 Infinity            Volume      2023-12-09   \n",
       "474  Turkey  Country         Reveal            Volume      2023-12-09   \n",
       "477  Turkey  Country         Shield            Volume      2023-12-09   \n",
       "\n",
       "              Committ  Quarter Forecast_Value Submission_quarter  \n",
       "0    First submission  Q1 2024           50.0            Q1_2024  \n",
       "3    First submission  Q1 2024            0.0            Q1_2024  \n",
       "6    First submission  Q1 2024            0.0            Q1_2024  \n",
       "9    First submission  Q1 2024            0.0            Q1_2024  \n",
       "12   First submission  Q1 2024           30.0            Q1_2024  \n",
       "..                ...      ...            ...                ...  \n",
       "465  First submission  Q1 2025            NaN            Q1_2024  \n",
       "468  First submission  Q1 2025            NaN            Q1_2024  \n",
       "471  First submission  Q1 2025            NaN            Q1_2024  \n",
       "474  First submission  Q1 2025            NaN            Q1_2024  \n",
       "477  First submission  Q1 2025            NaN            Q1_2024  \n",
       "\n",
       "[160 rows x 9 columns]"
      ]
     },
     "execution_count": 15,
     "metadata": {},
     "output_type": "execute_result"
    }
   ],
   "source": [
    "volume_forecast"
   ]
  },
  {
   "cell_type": "code",
   "execution_count": null,
   "metadata": {},
   "outputs": [],
   "source": []
  }
 ],
 "metadata": {
  "kernelspec": {
   "display_name": "venv",
   "language": "python",
   "name": "python3"
  },
  "language_info": {
   "codemirror_mode": {
    "name": "ipython",
    "version": 3
   },
   "file_extension": ".py",
   "mimetype": "text/x-python",
   "name": "python",
   "nbconvert_exporter": "python",
   "pygments_lexer": "ipython3",
   "version": "3.9.13"
  }
 },
 "nbformat": 4,
 "nbformat_minor": 2
}
