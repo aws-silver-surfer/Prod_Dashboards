{
 "cells": [
  {
   "cell_type": "code",
   "execution_count": 2,
   "metadata": {},
   "outputs": [],
   "source": [
    "import numpy as np\n",
    "import pandas as pd\n",
    "pd.options.mode.chained_assignment = None\n",
    "import xlsxwriter\n",
    "from pathlib import Path"
   ]
  },
  {
   "cell_type": "code",
   "execution_count": 3,
   "metadata": {},
   "outputs": [],
   "source": [
    "#File path to forecasting file\n",
    "file_path = \"./5QRF_template_Q4_23_Q4_24_v1.xlsx\"\n",
    "\n",
    "#Full list of Excel sheets\n",
    "sheet_names_list = pd.ExcelFile(file_path).sheet_names"
   ]
  },
  {
   "cell_type": "code",
   "execution_count": 4,
   "metadata": {},
   "outputs": [],
   "source": [
    "#List of countries for importing the country forecast\n",
    "list_sheets = [ 'Canada',\n",
    " 'Spain',\n",
    " 'UK',\n",
    " 'Turkey',\n",
    " 'Latam',\n",
    " 'Italy',\n",
    " 'Rest',\n",
    " 'France']"
   ]
  },
  {
   "cell_type": "code",
   "execution_count": 5,
   "metadata": {},
   "outputs": [],
   "source": [
    "#Function to transform raw input of each Excel sheet into one dataframe\n",
    "\n",
    "def create_forecast_df(country, file= file_path):\n",
    "    \n",
    "    data_import = pd.read_excel(file,header=1, index_col = \"Unnamed: 1\" , sheet_name=country)\n",
    "    data_import[\"Country\"] = country\n",
    "    data_import = data_import[data_import.index.notnull()]\n",
    "#cast numbers as Int\n",
    "    data_import.iloc[:, 1:6] = data_import.iloc[:, 1:6].astype(\"int64\")\n",
    "#Reset index\n",
    "    data_import = data_import.reset_index()\n",
    "#Rename columns\n",
    "\n",
    "    data_import = data_import.rename(columns={\"Unnamed: 0\": \"Forecaster\", \"index\": \"Category\"})\n",
    "    \n",
    "    excel_melted = data_import.melt(id_vars=[\"Category\", \"Forecaster\", \"Country\"], value_vars=['Q4 2023', 'Q1 2024', 'Q2 2024', 'Q3 2024',\n",
    "       'Q4 2024'], var_name = \"Time\" )\n",
    "    excel_melted[\"Product\"] = \"Placeholder\"\n",
    "    excel_melted[\"Product\"][excel_melted[\"Category\"].str.contains(\"74\", regex=False)] =\"G360 CDx\"\n",
    "    excel_melted[\"Product\"][excel_melted[\"Category\"].str.contains(\"84\", regex=False)] =\"G360 Infinity\"\n",
    "    excel_melted[\"Product\"][excel_melted[\"Category\"].str.contains(\"Reveal\", regex=False)] =\"Reveal\"\n",
    "    excel_melted[\"Product\"][excel_melted[\"Category\"].str.contains(\"Shield\", regex=False)] =\"Shield\"\n",
    "    excel_melted[\"Forecast_category\"] = \"Placeholder\"\n",
    "    excel_melted[\"Forecast_category\"][excel_melted[\"Category\"].str.contains(\"volume\", regex=False)] =\"Volume\"\n",
    "    excel_melted[\"Forecast_category\"][excel_melted[\"Category\"].str.contains(\"Average\", regex=False)] =\"ASP\"\n",
    "    file_name = Path(\"./5QRF_template_Q4_23_Q4_24_v1.xlsx\").stem.split(\"_\")[2:4]\n",
    "    excel_melted[\"5QRF_Starting_Quarter\"] = \"_\".join(file_name)\n",
    "    excel_melted= excel_melted[excel_melted[\"Forecast_category\"] != \"Placeholder\"]\n",
    "    excel_melted= excel_melted[excel_melted[\"Product\"] != \"Placeholder\"]\n",
    "    excel_melted[\"value\"] = excel_melted[\"value\"].astype(\"int64\")\n",
    "    excel_melted= excel_melted.pivot(index =['Forecaster', 'Country', 'Time', 'Product', '5QRF_Starting_Quarter'], columns = 'Forecast_category',values = \"value\")\n",
    "    excel_melted = excel_melted.reset_index()\n",
    "    return excel_melted\n",
    "\n"
   ]
  },
  {
   "cell_type": "code",
   "execution_count": 6,
   "metadata": {},
   "outputs": [],
   "source": [
    "#Create empty dictionary\n",
    "df_dict={}\n",
    "\n",
    "for country in list_sheets:\n",
    "    df_dict[country] = create_forecast_df(country,file= file_path )\n"
   ]
  },
  {
   "cell_type": "code",
   "execution_count": 7,
   "metadata": {},
   "outputs": [],
   "source": [
    "#Concat all files\n",
    "df = pd.concat([v for k,v in df_dict.items()])"
   ]
  },
  {
   "cell_type": "code",
   "execution_count": 11,
   "metadata": {},
   "outputs": [],
   "source": [
    "df.to_csv(\"forecast_country.csv\", index = False)"
   ]
  }
 ],
 "metadata": {
  "kernelspec": {
   "display_name": "envs",
   "language": "python",
   "name": "python3"
  },
  "language_info": {
   "codemirror_mode": {
    "name": "ipython",
    "version": 3
   },
   "file_extension": ".py",
   "mimetype": "text/x-python",
   "name": "python",
   "nbconvert_exporter": "python",
   "pygments_lexer": "ipython3",
   "version": "3.9.13"
  }
 },
 "nbformat": 4,
 "nbformat_minor": 2
}
