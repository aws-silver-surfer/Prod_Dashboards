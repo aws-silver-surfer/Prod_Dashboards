{
 "cells": [
  {
   "cell_type": "code",
   "execution_count": 1,
   "metadata": {},
   "outputs": [],
   "source": [
    "import numpy as np\n",
    "import pandas as pd\n",
    "pd.options.mode.chained_assignment = None\n",
    "import xlsxwriter\n",
    "from pathlib import Path"
   ]
  },
  {
   "cell_type": "code",
   "execution_count": 2,
   "metadata": {},
   "outputs": [],
   "source": [
    "#File path to forecasting file\n",
    "file_path = \"../Data/5QRF_template_Q4_23_Q4_24_v1.xlsx\"\n",
    "\n",
    "#Full list of Excel sheets\n",
    "sheet_names_list = pd.ExcelFile(file_path).sheet_names"
   ]
  },
  {
   "cell_type": "code",
   "execution_count": 3,
   "metadata": {},
   "outputs": [],
   "source": [
    "#List of countries for importing the country forecast\n",
    "list_sheets = [ 'Canada',\n",
    " 'Spain',\n",
    " 'UK',\n",
    " 'Turkey',\n",
    " 'Latam',\n",
    " 'Italy',\n",
    " 'Rest',\n",
    " 'France']"
   ]
  },
  {
   "cell_type": "code",
   "execution_count": 4,
   "metadata": {},
   "outputs": [],
   "source": [
    "#Function to transform raw input of each Excel sheet into one dataframe\n",
    "\n",
    "def create_forecast_df(country, file= file_path):\n",
    "    \n",
    "    data_import = pd.read_excel(file,header=1, index_col = \"Unnamed: 1\" , sheet_name=country)\n",
    "    data_import[\"Country\"] = country\n",
    "    data_import = data_import[data_import.index.notnull()]\n",
    "#cast numbers as Int\n",
    "    data_import.iloc[:, 1:6] = data_import.iloc[:, 1:6].astype(\"int64\")\n",
    "#Reset index\n",
    "    data_import = data_import.reset_index()\n",
    "#Rename columns\n",
    "\n",
    "    data_import = data_import.rename(columns={\"Unnamed: 0\": \"Forecaster\", \"index\": \"Category\"})\n",
    "    \n",
    "    excel_melted = data_import.melt(id_vars=[\"Category\", \"Forecaster\", \"Country\"], value_vars=['Q4 2023', 'Q1 2024', 'Q2 2024', 'Q3 2024',\n",
    "       'Q4 2024'], var_name = \"Time\" )\n",
    "    excel_melted[\"Product\"] = \"Placeholder\"\n",
    "    excel_melted[\"Product\"][excel_melted[\"Category\"].str.contains(\"74\", regex=False)] =\"G360 CDx\"\n",
    "    excel_melted[\"Product\"][excel_melted[\"Category\"].str.contains(\"84\", regex=False)] =\"G360 Infinity\"\n",
    "    excel_melted[\"Product\"][excel_melted[\"Category\"].str.contains(\"Reveal\", regex=False)] =\"Reveal\"\n",
    "    excel_melted[\"Product\"][excel_melted[\"Category\"].str.contains(\"Shield\", regex=False)] =\"Shield\"\n",
    "    excel_melted[\"Forecast_category\"] = \"Placeholder\"\n",
    "    excel_melted[\"Forecast_category\"][excel_melted[\"Category\"].str.contains(\"volume\", regex=False)] =\"Volume\"\n",
    "    excel_melted[\"Forecast_category\"][excel_melted[\"Category\"].str.contains(\"Average\", regex=False)] =\"ASP\"\n",
    "    file_name = Path(\"./5QRF_template_Q4_23_Q4_24_v1.xlsx\").stem.split(\"_\")[2:4]\n",
    "    excel_melted[\"5QRF_Starting_Quarter\"] = \"_\".join(file_name)\n",
    "    excel_melted= excel_melted[excel_melted[\"Forecast_category\"] != \"Placeholder\"]\n",
    "    excel_melted= excel_melted[excel_melted[\"Product\"] != \"Placeholder\"]\n",
    "    excel_melted[\"value\"] = excel_melted[\"value\"].astype(\"int64\")\n",
    "    excel_melted= excel_melted.pivot(index =['Forecaster', 'Country', 'Time', 'Product', '5QRF_Starting_Quarter'], columns = 'Forecast_category',values = \"value\")\n",
    "    excel_melted = excel_melted.reset_index()\n",
    "    return excel_melted\n",
    "\n"
   ]
  },
  {
   "cell_type": "code",
   "execution_count": 5,
   "metadata": {},
   "outputs": [],
   "source": [
    "#Create empty dictionary\n",
    "df_dict={}\n",
    "\n",
    "for country in list_sheets:\n",
    "    df_dict[country] = create_forecast_df(country,file= file_path )\n"
   ]
  },
  {
   "cell_type": "code",
   "execution_count": 6,
   "metadata": {},
   "outputs": [],
   "source": [
    "#Concat all files\n",
    "df = pd.concat([v for k,v in df_dict.items()])"
   ]
  },
  {
   "cell_type": "code",
   "execution_count": 7,
   "metadata": {},
   "outputs": [],
   "source": [
    "df.to_csv(\"../Data/forecast_country.csv\", index = False)"
   ]
  },
  {
   "cell_type": "code",
   "execution_count": 10,
   "metadata": {},
   "outputs": [
    {
     "data": {
      "text/html": [
       "<div>\n",
       "<style scoped>\n",
       "    .dataframe tbody tr th:only-of-type {\n",
       "        vertical-align: middle;\n",
       "    }\n",
       "\n",
       "    .dataframe tbody tr th {\n",
       "        vertical-align: top;\n",
       "    }\n",
       "\n",
       "    .dataframe thead th {\n",
       "        text-align: right;\n",
       "    }\n",
       "</style>\n",
       "<table border=\"1\" class=\"dataframe\">\n",
       "  <thead>\n",
       "    <tr style=\"text-align: right;\">\n",
       "      <th>Forecast_category</th>\n",
       "      <th>Forecaster</th>\n",
       "      <th>Country</th>\n",
       "      <th>Time</th>\n",
       "      <th>Product</th>\n",
       "      <th>5QRF_Starting_Quarter</th>\n",
       "      <th>ASP</th>\n",
       "      <th>Volume</th>\n",
       "    </tr>\n",
       "  </thead>\n",
       "  <tbody>\n",
       "    <tr>\n",
       "      <th>53</th>\n",
       "      <td>IMT</td>\n",
       "      <td>Rest</td>\n",
       "      <td>Q4 2023</td>\n",
       "      <td>G360 Infinity</td>\n",
       "      <td>Q4_23</td>\n",
       "      <td>0</td>\n",
       "      <td>0</td>\n",
       "    </tr>\n",
       "    <tr>\n",
       "      <th>12</th>\n",
       "      <td>Country</td>\n",
       "      <td>Spain</td>\n",
       "      <td>Q4 2023</td>\n",
       "      <td>G360 CDx</td>\n",
       "      <td>Q4_23</td>\n",
       "      <td>1600</td>\n",
       "      <td>45</td>\n",
       "    </tr>\n",
       "    <tr>\n",
       "      <th>58</th>\n",
       "      <td>IMT</td>\n",
       "      <td>Canada</td>\n",
       "      <td>Q4 2024</td>\n",
       "      <td>Reveal</td>\n",
       "      <td>Q4_23</td>\n",
       "      <td>1700</td>\n",
       "      <td>25</td>\n",
       "    </tr>\n",
       "    <tr>\n",
       "      <th>17</th>\n",
       "      <td>Country</td>\n",
       "      <td>Turkey</td>\n",
       "      <td>Q4 2024</td>\n",
       "      <td>G360 Infinity</td>\n",
       "      <td>Q4_23</td>\n",
       "      <td>2319</td>\n",
       "      <td>60</td>\n",
       "    </tr>\n",
       "    <tr>\n",
       "      <th>45</th>\n",
       "      <td>IMT</td>\n",
       "      <td>Latam</td>\n",
       "      <td>Q2 2024</td>\n",
       "      <td>G360 Infinity</td>\n",
       "      <td>Q4_23</td>\n",
       "      <td>2900</td>\n",
       "      <td>18</td>\n",
       "    </tr>\n",
       "  </tbody>\n",
       "</table>\n",
       "</div>"
      ],
      "text/plain": [
       "Forecast_category Forecaster Country     Time        Product  \\\n",
       "53                       IMT    Rest  Q4 2023  G360 Infinity   \n",
       "12                   Country   Spain  Q4 2023       G360 CDx   \n",
       "58                       IMT  Canada  Q4 2024         Reveal   \n",
       "17                   Country  Turkey  Q4 2024  G360 Infinity   \n",
       "45                       IMT   Latam  Q2 2024  G360 Infinity   \n",
       "\n",
       "Forecast_category 5QRF_Starting_Quarter   ASP  Volume  \n",
       "53                                Q4_23     0       0  \n",
       "12                                Q4_23  1600      45  \n",
       "58                                Q4_23  1700      25  \n",
       "17                                Q4_23  2319      60  \n",
       "45                                Q4_23  2900      18  "
      ]
     },
     "execution_count": 10,
     "metadata": {},
     "output_type": "execute_result"
    }
   ],
   "source": [
    "df.sample(5)"
   ]
  }
 ],
 "metadata": {
  "kernelspec": {
   "display_name": "envs",
   "language": "python",
   "name": "python3"
  },
  "language_info": {
   "codemirror_mode": {
    "name": "ipython",
    "version": 3
   },
   "file_extension": ".py",
   "mimetype": "text/x-python",
   "name": "python",
   "nbconvert_exporter": "python",
   "pygments_lexer": "ipython3",
   "version": "3.9.13"
  }
 },
 "nbformat": 4,
 "nbformat_minor": 2
}
