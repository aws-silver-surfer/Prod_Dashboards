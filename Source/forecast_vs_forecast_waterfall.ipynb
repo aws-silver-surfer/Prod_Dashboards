{
 "cells": [
  {
   "cell_type": "code",
   "execution_count": 27,
   "metadata": {},
   "outputs": [
    {
     "data": {
      "text/plain": [
       "True"
      ]
     },
     "execution_count": 27,
     "metadata": {},
     "output_type": "execute_result"
    }
   ],
   "source": [
    "import numpy as np\n",
    "import pandas as pd\n",
    "from pathlib import Path\n",
    "import os\n",
    "from dotenv import load_dotenv\n",
    "from datetime import date\n",
    "\n",
    "from waterfall_ax import WaterfallChart\n",
    "import matplotlib.pyplot as plt\n",
    "\n",
    "load_dotenv()"
   ]
  },
  {
   "cell_type": "markdown",
   "metadata": {},
   "source": [
    "#### Import the files with the forecasts"
   ]
  },
  {
   "cell_type": "code",
   "execution_count": 28,
   "metadata": {},
   "outputs": [],
   "source": [
    "# Path to files\n",
    "\n",
    "old_forecast_path =  \"/Users/mhausch/Data/Prod_Dashboards/Data/volume_forecast_Q4_2023.csv\"\n",
    "\n",
    "new_forecast = \"../Data/volume_forecast_Q1_2024.csv\""
   ]
  },
  {
   "cell_type": "code",
   "execution_count": 29,
   "metadata": {},
   "outputs": [],
   "source": [
    "#Read in data\n",
    "\n",
    "old_forecast_import = pd.read_csv(old_forecast_path)\n",
    "\n",
    "new_forecast_import = pd.read_csv(new_forecast)"
   ]
  },
  {
   "cell_type": "code",
   "execution_count": 30,
   "metadata": {},
   "outputs": [
    {
     "data": {
      "text/html": [
       "<div>\n",
       "<style scoped>\n",
       "    .dataframe tbody tr th:only-of-type {\n",
       "        vertical-align: middle;\n",
       "    }\n",
       "\n",
       "    .dataframe tbody tr th {\n",
       "        vertical-align: top;\n",
       "    }\n",
       "\n",
       "    .dataframe thead th {\n",
       "        text-align: right;\n",
       "    }\n",
       "</style>\n",
       "<table border=\"1\" class=\"dataframe\">\n",
       "  <thead>\n",
       "    <tr style=\"text-align: right;\">\n",
       "      <th></th>\n",
       "      <th>Entity</th>\n",
       "      <th>Country</th>\n",
       "      <th>Product</th>\n",
       "      <th>Forecast_Category</th>\n",
       "      <th>Submission date</th>\n",
       "      <th>Committ</th>\n",
       "      <th>Quarter</th>\n",
       "      <th>Forecast_Value</th>\n",
       "      <th>Submission_quarter</th>\n",
       "    </tr>\n",
       "  </thead>\n",
       "  <tbody>\n",
       "    <tr>\n",
       "      <th>0</th>\n",
       "      <td>France</td>\n",
       "      <td>Country</td>\n",
       "      <td>G360CDx</td>\n",
       "      <td>Volume</td>\n",
       "      <td>2023-12-09</td>\n",
       "      <td>First submission</td>\n",
       "      <td>Q1 2024</td>\n",
       "      <td>50.0</td>\n",
       "      <td>Q1_2024</td>\n",
       "    </tr>\n",
       "    <tr>\n",
       "      <th>1</th>\n",
       "      <td>France</td>\n",
       "      <td>Country</td>\n",
       "      <td>G360 Infinity</td>\n",
       "      <td>Volume</td>\n",
       "      <td>2023-12-09</td>\n",
       "      <td>First submission</td>\n",
       "      <td>Q1 2024</td>\n",
       "      <td>0.0</td>\n",
       "      <td>Q1_2024</td>\n",
       "    </tr>\n",
       "  </tbody>\n",
       "</table>\n",
       "</div>"
      ],
      "text/plain": [
       "   Entity  Country        Product Forecast_Category Submission date  \\\n",
       "0  France  Country        G360CDx            Volume      2023-12-09   \n",
       "1  France  Country  G360 Infinity            Volume      2023-12-09   \n",
       "\n",
       "            Committ  Quarter  Forecast_Value Submission_quarter  \n",
       "0  First submission  Q1 2024            50.0            Q1_2024  \n",
       "1  First submission  Q1 2024             0.0            Q1_2024  "
      ]
     },
     "execution_count": 30,
     "metadata": {},
     "output_type": "execute_result"
    }
   ],
   "source": [
    "new_forecast_import.head(2)"
   ]
  },
  {
   "cell_type": "code",
   "execution_count": 31,
   "metadata": {},
   "outputs": [],
   "source": [
    "# Input for function: old + newdataframe , value to group by"
   ]
  },
  {
   "cell_type": "code",
   "execution_count": 32,
   "metadata": {},
   "outputs": [
    {
     "data": {
      "text/plain": [
       "Product\n",
       "G360 Infinity     357.0\n",
       "G360CDx          2641.0\n",
       "Reveal            265.0\n",
       "Shield            100.0\n",
       "Name: Forecast_Value, dtype: float64"
      ]
     },
     "execution_count": 32,
     "metadata": {},
     "output_type": "execute_result"
    }
   ],
   "source": [
    "new_forecast_by_product = new_forecast_import.groupby([\"Product\"])[\"Forecast_Value\"].sum()\n",
    "new_forecast_by_product"
   ]
  },
  {
   "cell_type": "code",
   "execution_count": 33,
   "metadata": {},
   "outputs": [
    {
     "data": {
      "text/plain": [
       "['G360 Infinity', 'G360CDx', 'Reveal', 'Shield']"
      ]
     },
     "execution_count": 33,
     "metadata": {},
     "output_type": "execute_result"
    }
   ],
   "source": [
    "new_forecast_by_product.index.to_list()"
   ]
  },
  {
   "cell_type": "code",
   "execution_count": 34,
   "metadata": {},
   "outputs": [],
   "source": [
    "old_forecast_by_product = old_forecast_import.groupby([\"Product\"])[\"Forecast_Value\"].sum()"
   ]
  },
  {
   "cell_type": "code",
   "execution_count": 35,
   "metadata": {},
   "outputs": [
    {
     "data": {
      "text/plain": [
       "(3363.0, 3234.0, 129.0)"
      ]
     },
     "execution_count": 35,
     "metadata": {},
     "output_type": "execute_result"
    }
   ],
   "source": [
    "total_new_forecast = new_forecast_by_product.sum()\n",
    "total_old_forecast = old_forecast_by_product.sum()\n",
    "difference_forecasts = total_new_forecast - total_old_forecast\n",
    "total_new_forecast, total_old_forecast, difference_forecasts"
   ]
  },
  {
   "cell_type": "code",
   "execution_count": 36,
   "metadata": {},
   "outputs": [
    {
     "data": {
      "text/plain": [
       "numpy.float64"
      ]
     },
     "execution_count": 36,
     "metadata": {},
     "output_type": "execute_result"
    }
   ],
   "source": [
    "type(difference_forecasts)"
   ]
  },
  {
   "cell_type": "code",
   "execution_count": 37,
   "metadata": {},
   "outputs": [],
   "source": [
    "gap = pd.DataFrame()\n",
    "gap[\"Difference\"] = new_forecast_by_product - old_forecast_by_product"
   ]
  },
  {
   "cell_type": "code",
   "execution_count": 38,
   "metadata": {},
   "outputs": [
    {
     "data": {
      "text/plain": [
       "[0.0, 129.0, 0.0, 0.0]"
      ]
     },
     "execution_count": 38,
     "metadata": {},
     "output_type": "execute_result"
    }
   ],
   "source": [
    "gap_list = gap[\"Difference\"].to_list()\n",
    "gap_list"
   ]
  },
  {
   "cell_type": "code",
   "execution_count": 39,
   "metadata": {},
   "outputs": [],
   "source": [
    "gap_list.insert(0,total_old_forecast)"
   ]
  },
  {
   "cell_type": "code",
   "execution_count": 40,
   "metadata": {},
   "outputs": [],
   "source": [
    "#gap_list.append(total_new_forecast)"
   ]
  },
  {
   "cell_type": "code",
   "execution_count": 41,
   "metadata": {},
   "outputs": [
    {
     "data": {
      "text/plain": [
       "[3234.0, 0.0, 129.0, 0.0, 0.0]"
      ]
     },
     "execution_count": 41,
     "metadata": {},
     "output_type": "execute_result"
    }
   ],
   "source": [
    "gap_list"
   ]
  },
  {
   "cell_type": "code",
   "execution_count": 42,
   "metadata": {},
   "outputs": [],
   "source": [
    "temp_df = pd.Series(gap_list)\n",
    "temp_df = temp_df.cumsum()\n",
    "result_list_final = temp_df.to_list()"
   ]
  },
  {
   "cell_type": "code",
   "execution_count": 43,
   "metadata": {},
   "outputs": [
    {
     "data": {
      "text/plain": [
       "[3234.0, 3234.0, 3363.0, 3363.0, 3363.0]"
      ]
     },
     "execution_count": 43,
     "metadata": {},
     "output_type": "execute_result"
    }
   ],
   "source": [
    "result_list_final"
   ]
  },
  {
   "cell_type": "code",
   "execution_count": 44,
   "metadata": {},
   "outputs": [
    {
     "data": {
      "text/plain": [
       "['Old Forecast', 'G360 Infinity', 'G360CDx', 'Reveal', 'Shield']"
      ]
     },
     "execution_count": 44,
     "metadata": {},
     "output_type": "execute_result"
    }
   ],
   "source": [
    "# create the labels for the waterfall plot\n",
    "\n",
    "lables_series = new_forecast_by_product.index.to_list()\n",
    "lables_series.insert(0, \"Old Forecast\")\n",
    "lables_series"
   ]
  },
  {
   "cell_type": "code",
   "execution_count": null,
   "metadata": {},
   "outputs": [],
   "source": []
  },
  {
   "cell_type": "code",
   "execution_count": 45,
   "metadata": {},
   "outputs": [
    {
     "name": "stderr",
     "output_type": "stream",
     "text": [
      "/Users/mhausch/Data/Prod_Dashboards/venv/lib/python3.9/site-packages/waterfall_ax/waterfall_ax.py:121: FutureWarning: Series.__getitem__ treating keys as positions is deprecated. In a future version, integer keys will always be treated as labels (consistent with DataFrame behavior). To access a value by position, use `ser.iloc[pos]`\n",
      "  label = '{:,}'.format(int(df_plot[self.delta_col][i]))\n"
     ]
    },
    {
     "data": {
      "image/png": "[encoded data removed]",
      "text/plain": [
       "<Figure size 1000x500 with 1 Axes>"
      ]
     },
     "metadata": {},
     "output_type": "display_data"
    }
   ],
   "source": [
    "plt.style.use('dark_background')\n",
    "\n",
    "step_names = lables_series\n",
    "# Plot\n",
    "waterfall = WaterfallChart(result_list_final, step_names=step_names)\n",
    "color_kwargs = {\n",
    "    'c_bar_pos': 'lightgreen',\n",
    "    'c_bar_neg': 'red',\n",
    "    'c_bar_start': 'white',\n",
    "    'c_bar_end': 'white',\n",
    "    'c_text_pos': 'white',    \n",
    "    'c_text_neg': 'white',\n",
    "    'c_text_start': 'yellow',\n",
    "    'c_text_end': 'yellow'\n",
    "}\n",
    "wf_ax = waterfall.plot_waterfall(title=f'Test ' , color_kwargs=color_kwargs)\n",
    "plt.savefig(f\"../Plots/test.pdf\")"
   ]
  }
 ],
 "metadata": {
  "kernelspec": {
   "display_name": "venv",
   "language": "python",
   "name": "python3"
  },
  "language_info": {
   "codemirror_mode": {
    "name": "ipython",
    "version": 3
   },
   "file_extension": ".py",
   "mimetype": "text/x-python",
   "name": "python",
   "nbconvert_exporter": "python",
   "pygments_lexer": "ipython3",
   "version": "3.9.13"
  }
 },
 "nbformat": 4,
 "nbformat_minor": 2
}
