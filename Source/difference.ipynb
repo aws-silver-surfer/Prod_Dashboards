{
 "cells": [
  {
   "cell_type": "code",
   "execution_count": 1,
   "metadata": {},
   "outputs": [],
   "source": [
    "import numpy as np\n",
    "import pandas as pd\n",
    "pd.options.mode.chained_assignment = None\n",
    "pd.set_option('display.max_columns', None)\n",
    "from pathlib import Path\n",
    "#Plotting\n",
    "\n",
    "from waterfall_ax import WaterfallChart\n",
    "import matplotlib.pyplot as plt\n"
   ]
  },
  {
   "cell_type": "code",
   "execution_count": 2,
   "metadata": {},
   "outputs": [],
   "source": [
    "#Define the working directory\n",
    "dir_path = \"../Data\"\n",
    "#File names for import\n",
    "all_data_file = Path(dir_path, \"all_data.csv\")\n",
    "revenue_file = Path(dir_path, \"revenue_only.csv\")\n",
    "forecast_file = Path(dir_path, \"forecast_country.csv\")"
   ]
  },
  {
   "cell_type": "code",
   "execution_count": 3,
   "metadata": {},
   "outputs": [],
   "source": [
    "# Selector\n",
    "\n",
    "#Select the commercial sampels\n",
    "#all_commercial = all_data[all_data[\"Type\"] == \"Commercial\"]\n",
    "quarter = \"Q4 2023\"\n",
    "persona = \"Country\"\n",
    "temp = 3\n",
    "Month_into_quarter = 1\n",
    "cut_off_date = \"2023-10-31\"\n",
    "\n",
    "#Q4_2023_forecast = forecast_data.loc[(forecast_data[\"Time\"] == quarter) & (forecast_data[\"Forecaster\"] == persona)]"
   ]
  },
  {
   "cell_type": "code",
   "execution_count": 4,
   "metadata": {},
   "outputs": [],
   "source": [
    "#Read in all the data\n",
    "all_data = pd.read_csv(all_data_file)\n",
    "revenue_data = pd.read_csv(revenue_file)\n",
    "forecast_data = pd.read_csv(forecast_file)\n",
    "forecast_data[\"Country\"] = forecast_data[\"Country\"].replace({\"Rest\":'Rest-EU'})\n",
    "forecast_data = forecast_data.rename(columns={\"Volume\":\"Forecast\"})\n"
   ]
  },
  {
   "cell_type": "code",
   "execution_count": 5,
   "metadata": {},
   "outputs": [],
   "source": [
    "#Select the time periode and the forecaster for the analysis \n",
    "Q4_2023_forecast = forecast_data.loc[(forecast_data[\"Time\"] == quarter) & (forecast_data[\"Forecaster\"] == persona)]"
   ]
  },
  {
   "cell_type": "code",
   "execution_count": 6,
   "metadata": {},
   "outputs": [
    {
     "data": {
      "text/html": [
       "<div>\n",
       "<style scoped>\n",
       "    .dataframe tbody tr th:only-of-type {\n",
       "        vertical-align: middle;\n",
       "    }\n",
       "\n",
       "    .dataframe tbody tr th {\n",
       "        vertical-align: top;\n",
       "    }\n",
       "\n",
       "    .dataframe thead th {\n",
       "        text-align: right;\n",
       "    }\n",
       "</style>\n",
       "<table border=\"1\" class=\"dataframe\">\n",
       "  <thead>\n",
       "    <tr style=\"text-align: right;\">\n",
       "      <th></th>\n",
       "      <th>Forecaster</th>\n",
       "      <th>Country</th>\n",
       "      <th>Time</th>\n",
       "      <th>Product</th>\n",
       "      <th>5QRF_Starting_Quarter</th>\n",
       "      <th>ASP</th>\n",
       "      <th>Forecast</th>\n",
       "    </tr>\n",
       "  </thead>\n",
       "  <tbody>\n",
       "    <tr>\n",
       "      <th>374</th>\n",
       "      <td>Country</td>\n",
       "      <td>Rest-EU</td>\n",
       "      <td>Q4 2023</td>\n",
       "      <td>Reveal</td>\n",
       "      <td>Q4_23</td>\n",
       "      <td>0</td>\n",
       "      <td>0</td>\n",
       "    </tr>\n",
       "    <tr>\n",
       "      <th>192</th>\n",
       "      <td>Country</td>\n",
       "      <td>Turkey</td>\n",
       "      <td>Q4 2023</td>\n",
       "      <td>G360 CDx</td>\n",
       "      <td>Q4_23</td>\n",
       "      <td>1838</td>\n",
       "      <td>20</td>\n",
       "    </tr>\n",
       "  </tbody>\n",
       "</table>\n",
       "</div>"
      ],
      "text/plain": [
       "    Forecaster  Country     Time   Product 5QRF_Starting_Quarter   ASP  \\\n",
       "374    Country  Rest-EU  Q4 2023    Reveal                 Q4_23     0   \n",
       "192    Country   Turkey  Q4 2023  G360 CDx                 Q4_23  1838   \n",
       "\n",
       "     Forecast  \n",
       "374         0  \n",
       "192        20  "
      ]
     },
     "execution_count": 6,
     "metadata": {},
     "output_type": "execute_result"
    }
   ],
   "source": [
    "Q4_2023_forecast.sample(2)"
   ]
  },
  {
   "cell_type": "code",
   "execution_count": 7,
   "metadata": {},
   "outputs": [],
   "source": [
    "#all_commercial = all_data[all_data[\"Type\"] == \"Commercial\"]\n",
    "#Q4_2023_forecast = forecast_data.loc[(forecast_data[\"Time\"] == quarter) & (forecast_data[\"Forecaster\"] == persona)]"
   ]
  },
  {
   "cell_type": "code",
   "execution_count": 8,
   "metadata": {},
   "outputs": [],
   "source": [
    "#Dict for correcting the country names\n",
    "country_dict = {'CANADA': 'Canada',\n",
    " 'SPAIN': 'Spain',\n",
    " 'ITALY': 'Italy',\n",
    " 'URUGUAY': 'Latam',\n",
    " 'BRAZIL': 'Latam',\n",
    " 'ARGENTINA': 'Latam',\n",
    " 'HUNGARY': 'Rest-EU',\n",
    " 'UNITED KINGDOM': 'UK',\n",
    " 'MEXICO': 'Latam',\n",
    " 'BELGIUM': 'Rest-EU',\n",
    " 'TURKEY': 'Turkey',\n",
    " 'COLOMBIA': 'Latam',\n",
    " 'PERU': 'Latam',\n",
    " 'FRANCE': 'France',\n",
    " 'GERMANY': 'Rest-EU',\n",
    " 'PORTUGAL': 'Rest-EU',\n",
    " 'SWITZERLAND': 'Rest-EU',\n",
    " 'COSTA RICA': 'Latam',\n",
    " 'CHILE': 'Latam',\n",
    " 'SWEDEN': 'Rest-EU',\n",
    " 'NETHERLANDS': 'Rest-EU',\n",
    " 'DENMARK': 'Rest-EU',\n",
    " 'IRELAND': 'Rest-EU',\n",
    " 'GREECE': 'Rest-EU',\n",
    " 'AUSTRIA': 'Rest-EU',\n",
    " 'CZECH REPUBLIC': 'Rest-EU',\n",
    " 'CROATIA': 'Rest-EU',\n",
    " 'UKRAINE': 'Rest-EU',\n",
    " 'SLOVENIA': 'Rest-EU',\n",
    " 'RUSSIA': 'Rest-EU',\n",
    " 'BELARUS': 'Rest-EU',\n",
    " 'FINLAND': 'Rest-EU',\n",
    " 'PUERTO RICO': 'Latam',\n",
    " 'LITHUANIA': 'Rest-EU',\n",
    " 'NORTH MACEDONIA': 'Rest-EU',\n",
    " 'ROMANIA': 'Rest-EU',\n",
    " 'LUXEMBOURG': 'Rest-EU',\n",
    " 'POLAND': 'Rest-EU'}\n",
    "\n",
    " "
   ]
  },
  {
   "cell_type": "code",
   "execution_count": 9,
   "metadata": {},
   "outputs": [],
   "source": [
    "#Define function that transforms to same data format\n",
    "def forecast_periode(data):\n",
    "    data = \" \".join([data[4:], data[0:4]])\n",
    "    return data\n",
    "\n",
    "#all_data = all_data[\"Quarter_Year\"].map(forecast_periode)\n",
    "all_data[\"Forecast_Region\"] = all_data[\"Reporting Country\"].map(country_dict)\n",
    "#Cast the time period to be in the correct data format\n",
    "all_data[\"Quarter_Year\"] = all_data[\"Quarter_Year\"].map(forecast_periode)"
   ]
  },
  {
   "cell_type": "code",
   "execution_count": 10,
   "metadata": {},
   "outputs": [],
   "source": [
    "#Clean up the data set\n",
    "all_data[\"Date Received\"] = pd.to_datetime(all_data[\"Date Received\"])\n",
    "all_data = all_data.set_index(\"Date Received\")\n",
    "all_data = all_data.drop(columns=[\"Product\"], axis = 1)\n",
    "all_data = all_data.rename(columns={\"Reporting Country  ↑\":\"Country\", \"new LIMS Project ID\":\"Product\", \"Quarter_Year\":\"Time\", 'Sales':\"Actuals\"})\n",
    "all_data = all_data[[\"Forecast_Region\",\"Time\", \"Product\", \"Type\" , \"Actuals\"]]\n",
    "all_data = all_data.sort_index()\n"
   ]
  },
  {
   "cell_type": "code",
   "execution_count": 11,
   "metadata": {},
   "outputs": [],
   "source": [
    "#Select the data until the cut off date\n",
    "all_data = all_data.loc[:cut_off_date ]"
   ]
  },
  {
   "cell_type": "code",
   "execution_count": 12,
   "metadata": {},
   "outputs": [
    {
     "name": "stdout",
     "output_type": "stream",
     "text": [
      "The most recent date in the dataset is 2023-10-31 00:00:00\n"
     ]
    }
   ],
   "source": [
    "#Check the cut of date\n",
    "print(f\"The most recent date in the dataset is {all_data.index.max()}\")"
   ]
  },
  {
   "cell_type": "code",
   "execution_count": 13,
   "metadata": {},
   "outputs": [],
   "source": [
    "#Select just the Commercial cases\n",
    "all_commercial = all_data[all_data[\"Type\"] == \"Commercial\"]"
   ]
  },
  {
   "cell_type": "code",
   "execution_count": 14,
   "metadata": {},
   "outputs": [
    {
     "data": {
      "text/html": [
       "<div>\n",
       "<style scoped>\n",
       "    .dataframe tbody tr th:only-of-type {\n",
       "        vertical-align: middle;\n",
       "    }\n",
       "\n",
       "    .dataframe tbody tr th {\n",
       "        vertical-align: top;\n",
       "    }\n",
       "\n",
       "    .dataframe thead th {\n",
       "        text-align: right;\n",
       "    }\n",
       "</style>\n",
       "<table border=\"1\" class=\"dataframe\">\n",
       "  <thead>\n",
       "    <tr style=\"text-align: right;\">\n",
       "      <th></th>\n",
       "      <th>Country</th>\n",
       "      <th>Time</th>\n",
       "      <th>Product</th>\n",
       "      <th>Actuals</th>\n",
       "    </tr>\n",
       "  </thead>\n",
       "  <tbody>\n",
       "    <tr>\n",
       "      <th>68</th>\n",
       "      <td>Latam</td>\n",
       "      <td>Q4 2023</td>\n",
       "      <td>G360 CDx</td>\n",
       "      <td>13</td>\n",
       "    </tr>\n",
       "    <tr>\n",
       "      <th>94</th>\n",
       "      <td>Rest-EU</td>\n",
       "      <td>Q4 2023</td>\n",
       "      <td>G360 CDx</td>\n",
       "      <td>3</td>\n",
       "    </tr>\n",
       "  </tbody>\n",
       "</table>\n",
       "</div>"
      ],
      "text/plain": [
       "    Country     Time   Product  Actuals\n",
       "68    Latam  Q4 2023  G360 CDx       13\n",
       "94  Rest-EU  Q4 2023  G360 CDx        3"
      ]
     },
     "execution_count": 14,
     "metadata": {},
     "output_type": "execute_result"
    }
   ],
   "source": [
    "#Group the sales data by country, quarter and product\n",
    "commercial_grouped = all_commercial.groupby([\"Forecast_Region\",\"Time\", \"Product\"])[\"Actuals\"].sum().reset_index()\n",
    "commercial_grouped = commercial_grouped.rename(columns={\"Forecast_Region\":\"Country\"})\n",
    "commercial_grouped.sample(2)"
   ]
  },
  {
   "cell_type": "code",
   "execution_count": 15,
   "metadata": {},
   "outputs": [
    {
     "data": {
      "text/html": [
       "<div>\n",
       "<style scoped>\n",
       "    .dataframe tbody tr th:only-of-type {\n",
       "        vertical-align: middle;\n",
       "    }\n",
       "\n",
       "    .dataframe tbody tr th {\n",
       "        vertical-align: top;\n",
       "    }\n",
       "\n",
       "    .dataframe thead th {\n",
       "        text-align: right;\n",
       "    }\n",
       "</style>\n",
       "<table border=\"1\" class=\"dataframe\">\n",
       "  <thead>\n",
       "    <tr style=\"text-align: right;\">\n",
       "      <th></th>\n",
       "      <th>Forecaster</th>\n",
       "      <th>Country</th>\n",
       "      <th>Time</th>\n",
       "      <th>Product</th>\n",
       "      <th>5QRF_Starting_Quarter</th>\n",
       "      <th>ASP</th>\n",
       "      <th>Forecast</th>\n",
       "    </tr>\n",
       "  </thead>\n",
       "  <tbody>\n",
       "    <tr>\n",
       "      <th>312</th>\n",
       "      <td>Country</td>\n",
       "      <td>Italy</td>\n",
       "      <td>Q4 2023</td>\n",
       "      <td>G360 CDx</td>\n",
       "      <td>Q4_23</td>\n",
       "      <td>1700</td>\n",
       "      <td>30</td>\n",
       "    </tr>\n",
       "    <tr>\n",
       "      <th>375</th>\n",
       "      <td>Country</td>\n",
       "      <td>Rest-EU</td>\n",
       "      <td>Q4 2023</td>\n",
       "      <td>Shield</td>\n",
       "      <td>Q4_23</td>\n",
       "      <td>0</td>\n",
       "      <td>0</td>\n",
       "    </tr>\n",
       "  </tbody>\n",
       "</table>\n",
       "</div>"
      ],
      "text/plain": [
       "    Forecaster  Country     Time   Product 5QRF_Starting_Quarter   ASP  \\\n",
       "312    Country    Italy  Q4 2023  G360 CDx                 Q4_23  1700   \n",
       "375    Country  Rest-EU  Q4 2023    Shield                 Q4_23     0   \n",
       "\n",
       "     Forecast  \n",
       "312        30  \n",
       "375         0  "
      ]
     },
     "execution_count": 15,
     "metadata": {},
     "output_type": "execute_result"
    }
   ],
   "source": [
    "#Plot the forecast data structure\n",
    "Q4_2023_forecast.sample(2)"
   ]
  },
  {
   "cell_type": "code",
   "execution_count": 16,
   "metadata": {},
   "outputs": [
    {
     "data": {
      "text/html": [
       "<div>\n",
       "<style scoped>\n",
       "    .dataframe tbody tr th:only-of-type {\n",
       "        vertical-align: middle;\n",
       "    }\n",
       "\n",
       "    .dataframe tbody tr th {\n",
       "        vertical-align: top;\n",
       "    }\n",
       "\n",
       "    .dataframe thead th {\n",
       "        text-align: right;\n",
       "    }\n",
       "</style>\n",
       "<table border=\"1\" class=\"dataframe\">\n",
       "  <thead>\n",
       "    <tr style=\"text-align: right;\">\n",
       "      <th></th>\n",
       "      <th>Forecaster</th>\n",
       "      <th>Country</th>\n",
       "      <th>Time</th>\n",
       "      <th>Product</th>\n",
       "      <th>5QRF_Starting_Quarter</th>\n",
       "      <th>ASP</th>\n",
       "      <th>Forecast</th>\n",
       "      <th>Actuals</th>\n",
       "    </tr>\n",
       "  </thead>\n",
       "  <tbody>\n",
       "    <tr>\n",
       "      <th>8</th>\n",
       "      <td>Country</td>\n",
       "      <td>UK</td>\n",
       "      <td>Q4 2023</td>\n",
       "      <td>G360 CDx</td>\n",
       "      <td>Q4_23</td>\n",
       "      <td>1545</td>\n",
       "      <td>132</td>\n",
       "      <td>59.0</td>\n",
       "    </tr>\n",
       "    <tr>\n",
       "      <th>2</th>\n",
       "      <td>Country</td>\n",
       "      <td>Canada</td>\n",
       "      <td>Q4 2023</td>\n",
       "      <td>Reveal</td>\n",
       "      <td>Q4_23</td>\n",
       "      <td>1200</td>\n",
       "      <td>10</td>\n",
       "      <td>NaN</td>\n",
       "    </tr>\n",
       "  </tbody>\n",
       "</table>\n",
       "</div>"
      ],
      "text/plain": [
       "  Forecaster Country     Time   Product 5QRF_Starting_Quarter   ASP  Forecast  \\\n",
       "8    Country      UK  Q4 2023  G360 CDx                 Q4_23  1545       132   \n",
       "2    Country  Canada  Q4 2023    Reveal                 Q4_23  1200        10   \n",
       "\n",
       "   Actuals  \n",
       "8     59.0  \n",
       "2      NaN  "
      ]
     },
     "execution_count": 16,
     "metadata": {},
     "output_type": "execute_result"
    }
   ],
   "source": [
    "#Add the actual results to the forecast dataframe by merging both df\n",
    "results = pd.merge(Q4_2023_forecast, commercial_grouped, how = \"left\", on=[\"Country\", \"Time\", \"Product\"])\n",
    "\n",
    "results.sample(2)"
   ]
  },
  {
   "cell_type": "code",
   "execution_count": 17,
   "metadata": {},
   "outputs": [
    {
     "data": {
      "text/html": [
       "<div>\n",
       "<style scoped>\n",
       "    .dataframe tbody tr th:only-of-type {\n",
       "        vertical-align: middle;\n",
       "    }\n",
       "\n",
       "    .dataframe tbody tr th {\n",
       "        vertical-align: top;\n",
       "    }\n",
       "\n",
       "    .dataframe thead th {\n",
       "        text-align: right;\n",
       "    }\n",
       "</style>\n",
       "<table border=\"1\" class=\"dataframe\">\n",
       "  <thead>\n",
       "    <tr style=\"text-align: right;\">\n",
       "      <th></th>\n",
       "      <th>Forecaster</th>\n",
       "      <th>Country</th>\n",
       "      <th>Time</th>\n",
       "      <th>Product</th>\n",
       "      <th>5QRF_Starting_Quarter</th>\n",
       "      <th>ASP</th>\n",
       "      <th>Forecast</th>\n",
       "      <th>Actuals</th>\n",
       "    </tr>\n",
       "  </thead>\n",
       "  <tbody>\n",
       "    <tr>\n",
       "      <th>9</th>\n",
       "      <td>Country</td>\n",
       "      <td>UK</td>\n",
       "      <td>Q4 2023</td>\n",
       "      <td>G360 Infinity</td>\n",
       "      <td>Q4_23</td>\n",
       "      <td>3000</td>\n",
       "      <td>5</td>\n",
       "      <td>1.0</td>\n",
       "    </tr>\n",
       "    <tr>\n",
       "      <th>8</th>\n",
       "      <td>Country</td>\n",
       "      <td>UK</td>\n",
       "      <td>Q4 2023</td>\n",
       "      <td>G360 CDx</td>\n",
       "      <td>Q4_23</td>\n",
       "      <td>1545</td>\n",
       "      <td>132</td>\n",
       "      <td>59.0</td>\n",
       "    </tr>\n",
       "  </tbody>\n",
       "</table>\n",
       "</div>"
      ],
      "text/plain": [
       "  Forecaster Country     Time        Product 5QRF_Starting_Quarter   ASP  \\\n",
       "9    Country      UK  Q4 2023  G360 Infinity                 Q4_23  3000   \n",
       "8    Country      UK  Q4 2023       G360 CDx                 Q4_23  1545   \n",
       "\n",
       "  Forecast Actuals  \n",
       "9        5     1.0  \n",
       "8      132    59.0  "
      ]
     },
     "execution_count": 17,
     "metadata": {},
     "output_type": "execute_result"
    }
   ],
   "source": [
    "#Fill na with 0's\n",
    "results = results.fillna(0,axis = 1)\n",
    "results.sample(2)"
   ]
  },
  {
   "cell_type": "code",
   "execution_count": 18,
   "metadata": {},
   "outputs": [],
   "source": [
    "#Calculate the forecast for the analysis periode and calculate the difference\n",
    "results[\"Actuals\"] = results[\"Actuals\"].astype(int)\n",
    "results[\"Temp_Forecast\"] = (results[\"Forecast\"]/temp).astype(float).round(0)\n",
    "results[\"Forecast_gap\"] = results[\"Actuals\"] - results[\"Temp_Forecast\"]\n",
    "\n",
    "\n"
   ]
  },
  {
   "cell_type": "code",
   "execution_count": 19,
   "metadata": {},
   "outputs": [],
   "source": [
    "columns = [\"Forecast\", \"G360 CDx\", \"G360 Infinity\",\"Reveal\",\"Shield\", \"Forecast\"]\n",
    "\n",
    "def plot_country_waterfall(country):\n",
    "    results_by_country = results[results[\"Country\"]== country].reset_index(drop = True)\n",
    "    #Set the waterfall column to be the absolute forecast gap for each product\n",
    "    results_by_country[\"Waterfall\"] = results_by_country[\"Forecast_gap\"]\n",
    "    result_list = results_by_country[\"Waterfall\"].to_list()\n",
    "    sum_temp_forecast = results_by_country[\"Temp_Forecast\"].sum()\n",
    "    result_list.insert(0,sum_temp_forecast)\n",
    "    #result_list.insert(0,results_by_country._get_value(0,\"Temp_Forecast\"))\n",
    "    temp_df = pd.Series(result_list)\n",
    "    temp_df = temp_df.cumsum()\n",
    "    result_list_final = temp_df.to_list()\n",
    "    \n",
    "    \n",
    "    plt.style.use('dark_background')\n",
    "\n",
    "    step_names = [\"Forecast\", \"G360 CDx\", \"G360 Infinity\",\"Reveal\",\"Shield\"]\n",
    "# Plot\n",
    "    waterfall = WaterfallChart(result_list_final, step_names=step_names)\n",
    "    color_kwargs = {\n",
    "    'c_bar_pos': 'lightgreen',\n",
    "    'c_bar_neg': 'red',\n",
    "    'c_bar_start': 'white',\n",
    "    'c_bar_end': 'white',\n",
    "    'c_text_pos': 'white',    \n",
    "    'c_text_neg': 'white',\n",
    "    'c_text_start': 'yellow',\n",
    "    'c_text_end': 'yellow'\n",
    "}\n",
    "    wf_ax = waterfall.plot_waterfall(title=f'Gap Analysis for the { results_by_country.loc[0, \"Country\"] } ' , color_kwargs=color_kwargs)\n",
    "    plt.savefig(f\"{country}.pdf\")"
   ]
  },
  {
   "cell_type": "code",
   "execution_count": 20,
   "metadata": {},
   "outputs": [
    {
     "name": "stderr",
     "output_type": "stream",
     "text": [
      "/Users/mhausch/Data/Prod_Dashboards/venv/lib/python3.9/site-packages/waterfall_ax/waterfall_ax.py:121: FutureWarning: Series.__getitem__ treating keys as positions is deprecated. In a future version, integer keys will always be treated as labels (consistent with DataFrame behavior). To access a value by position, use `ser.iloc[pos]`\n",
      "  label = '{:,}'.format(int(df_plot[self.delta_col][i]))\n",
      "/Users/mhausch/Data/Prod_Dashboards/venv/lib/python3.9/site-packages/waterfall_ax/waterfall_ax.py:121: FutureWarning: Series.__getitem__ treating keys as positions is deprecated. In a future version, integer keys will always be treated as labels (consistent with DataFrame behavior). To access a value by position, use `ser.iloc[pos]`\n",
      "  label = '{:,}'.format(int(df_plot[self.delta_col][i]))\n",
      "/Users/mhausch/Data/Prod_Dashboards/venv/lib/python3.9/site-packages/waterfall_ax/waterfall_ax.py:121: FutureWarning: Series.__getitem__ treating keys as positions is deprecated. In a future version, integer keys will always be treated as labels (consistent with DataFrame behavior). To access a value by position, use `ser.iloc[pos]`\n",
      "  label = '{:,}'.format(int(df_plot[self.delta_col][i]))\n",
      "/Users/mhausch/Data/Prod_Dashboards/venv/lib/python3.9/site-packages/waterfall_ax/waterfall_ax.py:121: FutureWarning: Series.__getitem__ treating keys as positions is deprecated. In a future version, integer keys will always be treated as labels (consistent with DataFrame behavior). To access a value by position, use `ser.iloc[pos]`\n",
      "  label = '{:,}'.format(int(df_plot[self.delta_col][i]))\n",
      "/Users/mhausch/Data/Prod_Dashboards/venv/lib/python3.9/site-packages/waterfall_ax/waterfall_ax.py:121: FutureWarning: Series.__getitem__ treating keys as positions is deprecated. In a future version, integer keys will always be treated as labels (consistent with DataFrame behavior). To access a value by position, use `ser.iloc[pos]`\n",
      "  label = '{:,}'.format(int(df_plot[self.delta_col][i]))\n",
      "/Users/mhausch/Data/Prod_Dashboards/venv/lib/python3.9/site-packages/waterfall_ax/waterfall_ax.py:121: FutureWarning: Series.__getitem__ treating keys as positions is deprecated. In a future version, integer keys will always be treated as labels (consistent with DataFrame behavior). To access a value by position, use `ser.iloc[pos]`\n",
      "  label = '{:,}'.format(int(df_plot[self.delta_col][i]))\n",
      "/Users/mhausch/Data/Prod_Dashboards/venv/lib/python3.9/site-packages/waterfall_ax/waterfall_ax.py:121: FutureWarning: Series.__getitem__ treating keys as positions is deprecated. In a future version, integer keys will always be treated as labels (consistent with DataFrame behavior). To access a value by position, use `ser.iloc[pos]`\n",
      "  label = '{:,}'.format(int(df_plot[self.delta_col][i]))\n",
      "/Users/mhausch/Data/Prod_Dashboards/venv/lib/python3.9/site-packages/waterfall_ax/waterfall_ax.py:121: FutureWarning: Series.__getitem__ treating keys as positions is deprecated. In a future version, integer keys will always be treated as labels (consistent with DataFrame behavior). To access a value by position, use `ser.iloc[pos]`\n",
      "  label = '{:,}'.format(int(df_plot[self.delta_col][i]))\n"
     ]
    },
    {
     "data": {
      "image/png": "[encoded data removed]",
      "text/plain": [
       "<Figure size 1000x500 with 1 Axes>"
      ]
     },
     "metadata": {},
     "output_type": "display_data"
    },
    {
     "data": {
      "image/png": "[encoded data removed]",
      "text/plain": [
       "<Figure size 1000x500 with 1 Axes>"
      ]
     },
     "metadata": {},
     "output_type": "display_data"
    },
    {
     "data": {
      "image/png": "[encoded data removed]",
      "text/plain": [
       "<Figure size 1000x500 with 1 Axes>"
      ]
     },
     "metadata": {},
     "output_type": "display_data"
    },
    {
     "data": {
      "image/png": "[encoded data removed]",
      "text/plain": [
       "<Figure size 1000x500 with 1 Axes>"
      ]
     },
     "metadata": {},
     "output_type": "display_data"
    },
    {
     "data": {
      "image/png": "[encoded data removed]",
      "text/plain": [
       "<Figure size 1000x500 with 1 Axes>"
      ]
     },
     "metadata": {},
     "output_type": "display_data"
    },
    {
     "data": {
      "image/png": "[encoded data removed]",
      "text/plain": [
       "<Figure size 1000x500 with 1 Axes>"
      ]
     },
     "metadata": {},
     "output_type": "display_data"
    },
    {
     "data": {
      "image/png": "[encoded data removed]",
      "text/plain": [
       "<Figure size 1000x500 with 1 Axes>"
      ]
     },
     "metadata": {},
     "output_type": "display_data"
    },
    {
     "data": {
      "image/png": "[encoded data removed]",
      "text/plain": [
       "<Figure size 1000x500 with 1 Axes>"
      ]
     },
     "metadata": {},
     "output_type": "display_data"
    }
   ],
   "source": [
    "countries = [\"UK\", \"Spain\", \"Canada\", \"Italy\", \"Rest-EU\", \"Latam\", \"France\", 'Turkey']\n",
    "\n",
    "for country in countries:\n",
    "    plot_country_waterfall(country)\n",
    "    "
   ]
  },
  {
   "cell_type": "markdown",
   "metadata": {},
   "source": [
    "# Plot the gap analysis for EUAA vs countries"
   ]
  },
  {
   "cell_type": "code",
   "execution_count": 21,
   "metadata": {},
   "outputs": [],
   "source": [
    "#Define the input dataframe\n",
    "\n",
    "EUAA_forecast = forecast_data.copy()\n",
    "EUAA_sales = all_data.copy()"
   ]
  },
  {
   "cell_type": "code",
   "execution_count": 22,
   "metadata": {},
   "outputs": [
    {
     "data": {
      "text/html": [
       "<div>\n",
       "<style scoped>\n",
       "    .dataframe tbody tr th:only-of-type {\n",
       "        vertical-align: middle;\n",
       "    }\n",
       "\n",
       "    .dataframe tbody tr th {\n",
       "        vertical-align: top;\n",
       "    }\n",
       "\n",
       "    .dataframe thead th {\n",
       "        text-align: right;\n",
       "    }\n",
       "</style>\n",
       "<table border=\"1\" class=\"dataframe\">\n",
       "  <thead>\n",
       "    <tr style=\"text-align: right;\">\n",
       "      <th></th>\n",
       "      <th>Forecast_Region</th>\n",
       "      <th>Time</th>\n",
       "      <th>Product</th>\n",
       "      <th>Type</th>\n",
       "      <th>Actuals</th>\n",
       "    </tr>\n",
       "    <tr>\n",
       "      <th>Date Received</th>\n",
       "      <th></th>\n",
       "      <th></th>\n",
       "      <th></th>\n",
       "      <th></th>\n",
       "      <th></th>\n",
       "    </tr>\n",
       "  </thead>\n",
       "  <tbody>\n",
       "    <tr>\n",
       "      <th>2023-07-03</th>\n",
       "      <td>UK</td>\n",
       "      <td>Q3 2023</td>\n",
       "      <td>G360 CDx</td>\n",
       "      <td>Commercial</td>\n",
       "      <td>1</td>\n",
       "    </tr>\n",
       "    <tr>\n",
       "      <th>2023-10-06</th>\n",
       "      <td>Rest-EU</td>\n",
       "      <td>Q4 2023</td>\n",
       "      <td>NaN</td>\n",
       "      <td>Biopharma</td>\n",
       "      <td>1</td>\n",
       "    </tr>\n",
       "  </tbody>\n",
       "</table>\n",
       "</div>"
      ],
      "text/plain": [
       "              Forecast_Region     Time   Product        Type  Actuals\n",
       "Date Received                                                        \n",
       "2023-07-03                 UK  Q3 2023  G360 CDx  Commercial        1\n",
       "2023-10-06            Rest-EU  Q4 2023       NaN   Biopharma        1"
      ]
     },
     "execution_count": 22,
     "metadata": {},
     "output_type": "execute_result"
    }
   ],
   "source": [
    "EUAA_sales.sample(2)\n"
   ]
  },
  {
   "cell_type": "code",
   "execution_count": 23,
   "metadata": {},
   "outputs": [
    {
     "name": "stdout",
     "output_type": "stream",
     "text": [
      "The maximum date is 2023-10-31 00:00:00\n"
     ]
    }
   ],
   "source": [
    "print(f\"The maximum date is {EUAA_sales.index.max()}\")"
   ]
  },
  {
   "cell_type": "code",
   "execution_count": 24,
   "metadata": {},
   "outputs": [],
   "source": [
    "# Selector\n",
    "\n",
    "#Select the commercial sampels\n",
    "EUAA_sales_commercial = EUAA_sales[EUAA_sales[\"Type\"] == \"Commercial\"]\n",
    "quarter = \"Q4 2023\"\n",
    "persona = \"Country\"\n",
    "temp = 3\n",
    "Month_into_quarter = 1"
   ]
  },
  {
   "cell_type": "code",
   "execution_count": 25,
   "metadata": {},
   "outputs": [
    {
     "data": {
      "text/html": [
       "<div>\n",
       "<style scoped>\n",
       "    .dataframe tbody tr th:only-of-type {\n",
       "        vertical-align: middle;\n",
       "    }\n",
       "\n",
       "    .dataframe tbody tr th {\n",
       "        vertical-align: top;\n",
       "    }\n",
       "\n",
       "    .dataframe thead th {\n",
       "        text-align: right;\n",
       "    }\n",
       "</style>\n",
       "<table border=\"1\" class=\"dataframe\">\n",
       "  <thead>\n",
       "    <tr style=\"text-align: right;\">\n",
       "      <th></th>\n",
       "      <th>Forecast_Region</th>\n",
       "      <th>Time</th>\n",
       "      <th>Product</th>\n",
       "      <th>Type</th>\n",
       "      <th>Actuals</th>\n",
       "    </tr>\n",
       "    <tr>\n",
       "      <th>Date Received</th>\n",
       "      <th></th>\n",
       "      <th></th>\n",
       "      <th></th>\n",
       "      <th></th>\n",
       "      <th></th>\n",
       "    </tr>\n",
       "  </thead>\n",
       "  <tbody>\n",
       "    <tr>\n",
       "      <th>2020-01-02</th>\n",
       "      <td>UK</td>\n",
       "      <td>Q1 2020</td>\n",
       "      <td>G360 CDx</td>\n",
       "      <td>Commercial</td>\n",
       "      <td>1</td>\n",
       "    </tr>\n",
       "    <tr>\n",
       "      <th>2020-01-02</th>\n",
       "      <td>UK</td>\n",
       "      <td>Q1 2020</td>\n",
       "      <td>G360 CDx</td>\n",
       "      <td>Commercial</td>\n",
       "      <td>1</td>\n",
       "    </tr>\n",
       "    <tr>\n",
       "      <th>2020-01-02</th>\n",
       "      <td>Turkey</td>\n",
       "      <td>Q1 2020</td>\n",
       "      <td>G360 CDx</td>\n",
       "      <td>Commercial</td>\n",
       "      <td>1</td>\n",
       "    </tr>\n",
       "    <tr>\n",
       "      <th>2020-01-02</th>\n",
       "      <td>Turkey</td>\n",
       "      <td>Q1 2020</td>\n",
       "      <td>G360 CDx</td>\n",
       "      <td>Commercial</td>\n",
       "      <td>1</td>\n",
       "    </tr>\n",
       "    <tr>\n",
       "      <th>2020-01-02</th>\n",
       "      <td>Spain</td>\n",
       "      <td>Q1 2020</td>\n",
       "      <td>G360 CDx</td>\n",
       "      <td>Commercial</td>\n",
       "      <td>1</td>\n",
       "    </tr>\n",
       "    <tr>\n",
       "      <th>...</th>\n",
       "      <td>...</td>\n",
       "      <td>...</td>\n",
       "      <td>...</td>\n",
       "      <td>...</td>\n",
       "      <td>...</td>\n",
       "    </tr>\n",
       "    <tr>\n",
       "      <th>2023-10-30</th>\n",
       "      <td>UK</td>\n",
       "      <td>Q4 2023</td>\n",
       "      <td>G360 CDx</td>\n",
       "      <td>Commercial</td>\n",
       "      <td>1</td>\n",
       "    </tr>\n",
       "    <tr>\n",
       "      <th>2023-10-30</th>\n",
       "      <td>UK</td>\n",
       "      <td>Q4 2023</td>\n",
       "      <td>G360 CDx</td>\n",
       "      <td>Commercial</td>\n",
       "      <td>1</td>\n",
       "    </tr>\n",
       "    <tr>\n",
       "      <th>2023-10-31</th>\n",
       "      <td>UK</td>\n",
       "      <td>Q4 2023</td>\n",
       "      <td>G360 CDx</td>\n",
       "      <td>Commercial</td>\n",
       "      <td>1</td>\n",
       "    </tr>\n",
       "    <tr>\n",
       "      <th>2023-10-31</th>\n",
       "      <td>UK</td>\n",
       "      <td>Q4 2023</td>\n",
       "      <td>G360 CDx</td>\n",
       "      <td>Commercial</td>\n",
       "      <td>1</td>\n",
       "    </tr>\n",
       "    <tr>\n",
       "      <th>2023-10-31</th>\n",
       "      <td>UK</td>\n",
       "      <td>Q4 2023</td>\n",
       "      <td>G360 CDx</td>\n",
       "      <td>Commercial</td>\n",
       "      <td>1</td>\n",
       "    </tr>\n",
       "  </tbody>\n",
       "</table>\n",
       "<p>5601 rows × 5 columns</p>\n",
       "</div>"
      ],
      "text/plain": [
       "              Forecast_Region     Time   Product        Type  Actuals\n",
       "Date Received                                                        \n",
       "2020-01-02                 UK  Q1 2020  G360 CDx  Commercial        1\n",
       "2020-01-02                 UK  Q1 2020  G360 CDx  Commercial        1\n",
       "2020-01-02             Turkey  Q1 2020  G360 CDx  Commercial        1\n",
       "2020-01-02             Turkey  Q1 2020  G360 CDx  Commercial        1\n",
       "2020-01-02              Spain  Q1 2020  G360 CDx  Commercial        1\n",
       "...                       ...      ...       ...         ...      ...\n",
       "2023-10-30                 UK  Q4 2023  G360 CDx  Commercial        1\n",
       "2023-10-30                 UK  Q4 2023  G360 CDx  Commercial        1\n",
       "2023-10-31                 UK  Q4 2023  G360 CDx  Commercial        1\n",
       "2023-10-31                 UK  Q4 2023  G360 CDx  Commercial        1\n",
       "2023-10-31                 UK  Q4 2023  G360 CDx  Commercial        1\n",
       "\n",
       "[5601 rows x 5 columns]"
      ]
     },
     "execution_count": 25,
     "metadata": {},
     "output_type": "execute_result"
    }
   ],
   "source": [
    "EUAA_sales_commercial"
   ]
  },
  {
   "cell_type": "code",
   "execution_count": 26,
   "metadata": {},
   "outputs": [
    {
     "data": {
      "text/html": [
       "<div>\n",
       "<style scoped>\n",
       "    .dataframe tbody tr th:only-of-type {\n",
       "        vertical-align: middle;\n",
       "    }\n",
       "\n",
       "    .dataframe tbody tr th {\n",
       "        vertical-align: top;\n",
       "    }\n",
       "\n",
       "    .dataframe thead th {\n",
       "        text-align: right;\n",
       "    }\n",
       "</style>\n",
       "<table border=\"1\" class=\"dataframe\">\n",
       "  <thead>\n",
       "    <tr style=\"text-align: right;\">\n",
       "      <th></th>\n",
       "      <th>Country</th>\n",
       "      <th>Time</th>\n",
       "      <th>Actuals</th>\n",
       "    </tr>\n",
       "  </thead>\n",
       "  <tbody>\n",
       "    <tr>\n",
       "      <th>15</th>\n",
       "      <td>Canada</td>\n",
       "      <td>Q4 2023</td>\n",
       "      <td>5</td>\n",
       "    </tr>\n",
       "    <tr>\n",
       "      <th>38</th>\n",
       "      <td>Italy</td>\n",
       "      <td>Q4 2023</td>\n",
       "      <td>26</td>\n",
       "    </tr>\n",
       "    <tr>\n",
       "      <th>54</th>\n",
       "      <td>Latam</td>\n",
       "      <td>Q4 2023</td>\n",
       "      <td>14</td>\n",
       "    </tr>\n",
       "    <tr>\n",
       "      <th>70</th>\n",
       "      <td>Rest-EU</td>\n",
       "      <td>Q4 2023</td>\n",
       "      <td>7</td>\n",
       "    </tr>\n",
       "    <tr>\n",
       "      <th>86</th>\n",
       "      <td>Spain</td>\n",
       "      <td>Q4 2023</td>\n",
       "      <td>18</td>\n",
       "    </tr>\n",
       "    <tr>\n",
       "      <th>102</th>\n",
       "      <td>Turkey</td>\n",
       "      <td>Q4 2023</td>\n",
       "      <td>25</td>\n",
       "    </tr>\n",
       "    <tr>\n",
       "      <th>118</th>\n",
       "      <td>UK</td>\n",
       "      <td>Q4 2023</td>\n",
       "      <td>60</td>\n",
       "    </tr>\n",
       "  </tbody>\n",
       "</table>\n",
       "</div>"
      ],
      "text/plain": [
       "     Country     Time  Actuals\n",
       "15    Canada  Q4 2023        5\n",
       "38     Italy  Q4 2023       26\n",
       "54     Latam  Q4 2023       14\n",
       "70   Rest-EU  Q4 2023        7\n",
       "86     Spain  Q4 2023       18\n",
       "102   Turkey  Q4 2023       25\n",
       "118       UK  Q4 2023       60"
      ]
     },
     "execution_count": 26,
     "metadata": {},
     "output_type": "execute_result"
    }
   ],
   "source": [
    "#Groupby the country and time periode/quarter\n",
    "EUAA_sales_commercial = EUAA_sales_commercial.groupby([\"Forecast_Region\", \"Time\"])[\"Actuals\"].sum().reset_index()\n",
    "#Select the time periode for analysis\n",
    "EUAA_sales_commercial = EUAA_sales_commercial[EUAA_sales_commercial[\"Time\"] == \"Q4 2023\"]\n",
    "EUAA_sales_commercial = EUAA_sales_commercial.rename(columns={\"Forecast_Region\":\"Country\"})\n",
    "EUAA_sales_commercial"
   ]
  },
  {
   "cell_type": "code",
   "execution_count": 27,
   "metadata": {},
   "outputs": [
    {
     "data": {
      "text/html": [
       "<div>\n",
       "<style scoped>\n",
       "    .dataframe tbody tr th:only-of-type {\n",
       "        vertical-align: middle;\n",
       "    }\n",
       "\n",
       "    .dataframe tbody tr th {\n",
       "        vertical-align: top;\n",
       "    }\n",
       "\n",
       "    .dataframe thead th {\n",
       "        text-align: right;\n",
       "    }\n",
       "</style>\n",
       "<table border=\"1\" class=\"dataframe\">\n",
       "  <thead>\n",
       "    <tr style=\"text-align: right;\">\n",
       "      <th></th>\n",
       "      <th>Country</th>\n",
       "      <th>Forecast</th>\n",
       "    </tr>\n",
       "  </thead>\n",
       "  <tbody>\n",
       "    <tr>\n",
       "      <th>0</th>\n",
       "      <td>Canada</td>\n",
       "      <td>42</td>\n",
       "    </tr>\n",
       "    <tr>\n",
       "      <th>1</th>\n",
       "      <td>France</td>\n",
       "      <td>5</td>\n",
       "    </tr>\n",
       "    <tr>\n",
       "      <th>2</th>\n",
       "      <td>Italy</td>\n",
       "      <td>30</td>\n",
       "    </tr>\n",
       "    <tr>\n",
       "      <th>3</th>\n",
       "      <td>Latam</td>\n",
       "      <td>59</td>\n",
       "    </tr>\n",
       "    <tr>\n",
       "      <th>4</th>\n",
       "      <td>Rest-EU</td>\n",
       "      <td>5</td>\n",
       "    </tr>\n",
       "    <tr>\n",
       "      <th>5</th>\n",
       "      <td>Spain</td>\n",
       "      <td>50</td>\n",
       "    </tr>\n",
       "    <tr>\n",
       "      <th>6</th>\n",
       "      <td>Turkey</td>\n",
       "      <td>70</td>\n",
       "    </tr>\n",
       "    <tr>\n",
       "      <th>7</th>\n",
       "      <td>UK</td>\n",
       "      <td>142</td>\n",
       "    </tr>\n",
       "  </tbody>\n",
       "</table>\n",
       "</div>"
      ],
      "text/plain": [
       "   Country  Forecast\n",
       "0   Canada        42\n",
       "1   France         5\n",
       "2    Italy        30\n",
       "3    Latam        59\n",
       "4  Rest-EU         5\n",
       "5    Spain        50\n",
       "6   Turkey        70\n",
       "7       UK       142"
      ]
     },
     "execution_count": 27,
     "metadata": {},
     "output_type": "execute_result"
    }
   ],
   "source": [
    "#Select the time periode for the analysis\n",
    "EUAA_forecast_filtered = EUAA_forecast.loc[(EUAA_forecast[\"Time\"] == quarter) & (EUAA_forecast[\"Forecaster\"] == persona)]\n",
    "\n",
    "EUAA_forecast_filtered = EUAA_forecast_filtered.groupby([\"Country\"])[\"Forecast\"].sum().reset_index()\n",
    "EUAA_forecast_filtered"
   ]
  },
  {
   "cell_type": "code",
   "execution_count": 28,
   "metadata": {},
   "outputs": [
    {
     "data": {
      "text/html": [
       "<div>\n",
       "<style scoped>\n",
       "    .dataframe tbody tr th:only-of-type {\n",
       "        vertical-align: middle;\n",
       "    }\n",
       "\n",
       "    .dataframe tbody tr th {\n",
       "        vertical-align: top;\n",
       "    }\n",
       "\n",
       "    .dataframe thead th {\n",
       "        text-align: right;\n",
       "    }\n",
       "</style>\n",
       "<table border=\"1\" class=\"dataframe\">\n",
       "  <thead>\n",
       "    <tr style=\"text-align: right;\">\n",
       "      <th></th>\n",
       "      <th>Country</th>\n",
       "      <th>Forecast</th>\n",
       "    </tr>\n",
       "  </thead>\n",
       "  <tbody>\n",
       "    <tr>\n",
       "      <th>0</th>\n",
       "      <td>Canada</td>\n",
       "      <td>42</td>\n",
       "    </tr>\n",
       "    <tr>\n",
       "      <th>1</th>\n",
       "      <td>France</td>\n",
       "      <td>5</td>\n",
       "    </tr>\n",
       "    <tr>\n",
       "      <th>2</th>\n",
       "      <td>Italy</td>\n",
       "      <td>30</td>\n",
       "    </tr>\n",
       "    <tr>\n",
       "      <th>3</th>\n",
       "      <td>Latam</td>\n",
       "      <td>59</td>\n",
       "    </tr>\n",
       "    <tr>\n",
       "      <th>4</th>\n",
       "      <td>Rest-EU</td>\n",
       "      <td>5</td>\n",
       "    </tr>\n",
       "    <tr>\n",
       "      <th>5</th>\n",
       "      <td>Spain</td>\n",
       "      <td>50</td>\n",
       "    </tr>\n",
       "    <tr>\n",
       "      <th>6</th>\n",
       "      <td>Turkey</td>\n",
       "      <td>70</td>\n",
       "    </tr>\n",
       "    <tr>\n",
       "      <th>7</th>\n",
       "      <td>UK</td>\n",
       "      <td>142</td>\n",
       "    </tr>\n",
       "  </tbody>\n",
       "</table>\n",
       "</div>"
      ],
      "text/plain": [
       "   Country  Forecast\n",
       "0   Canada        42\n",
       "1   France         5\n",
       "2    Italy        30\n",
       "3    Latam        59\n",
       "4  Rest-EU         5\n",
       "5    Spain        50\n",
       "6   Turkey        70\n",
       "7       UK       142"
      ]
     },
     "execution_count": 28,
     "metadata": {},
     "output_type": "execute_result"
    }
   ],
   "source": [
    "EUAA_forecast_filtered"
   ]
  },
  {
   "cell_type": "code",
   "execution_count": 29,
   "metadata": {},
   "outputs": [],
   "source": [
    "#Create the results dataframe\n",
    "EUAA_results = pd.merge(EUAA_forecast_filtered, EUAA_sales_commercial, how = \"left\", on=[\"Country\"])\n",
    "EUAA_results = EUAA_results.fillna(0,axis = 1)\n",
    "EUAA_results[\"Actuals\"] = EUAA_results[\"Actuals\"].astype(int)\n",
    "EUAA_results[\"Temp_Forecast\"] = (EUAA_results[\"Forecast\"]/temp).astype(float).round(0)\n",
    "EUAA_results[\"Forecast_gap\"] = EUAA_results[\"Actuals\"] - EUAA_results[\"Temp_Forecast\"]"
   ]
  },
  {
   "cell_type": "code",
   "execution_count": 30,
   "metadata": {},
   "outputs": [
    {
     "data": {
      "text/html": [
       "<div>\n",
       "<style scoped>\n",
       "    .dataframe tbody tr th:only-of-type {\n",
       "        vertical-align: middle;\n",
       "    }\n",
       "\n",
       "    .dataframe tbody tr th {\n",
       "        vertical-align: top;\n",
       "    }\n",
       "\n",
       "    .dataframe thead th {\n",
       "        text-align: right;\n",
       "    }\n",
       "</style>\n",
       "<table border=\"1\" class=\"dataframe\">\n",
       "  <thead>\n",
       "    <tr style=\"text-align: right;\">\n",
       "      <th></th>\n",
       "      <th>Country</th>\n",
       "      <th>Forecast</th>\n",
       "      <th>Time</th>\n",
       "      <th>Actuals</th>\n",
       "      <th>Temp_Forecast</th>\n",
       "      <th>Forecast_gap</th>\n",
       "    </tr>\n",
       "  </thead>\n",
       "  <tbody>\n",
       "    <tr>\n",
       "      <th>0</th>\n",
       "      <td>Canada</td>\n",
       "      <td>42</td>\n",
       "      <td>Q4 2023</td>\n",
       "      <td>5</td>\n",
       "      <td>14.0</td>\n",
       "      <td>-9.0</td>\n",
       "    </tr>\n",
       "    <tr>\n",
       "      <th>1</th>\n",
       "      <td>France</td>\n",
       "      <td>5</td>\n",
       "      <td>0</td>\n",
       "      <td>0</td>\n",
       "      <td>2.0</td>\n",
       "      <td>-2.0</td>\n",
       "    </tr>\n",
       "    <tr>\n",
       "      <th>2</th>\n",
       "      <td>Italy</td>\n",
       "      <td>30</td>\n",
       "      <td>Q4 2023</td>\n",
       "      <td>26</td>\n",
       "      <td>10.0</td>\n",
       "      <td>16.0</td>\n",
       "    </tr>\n",
       "    <tr>\n",
       "      <th>3</th>\n",
       "      <td>Latam</td>\n",
       "      <td>59</td>\n",
       "      <td>Q4 2023</td>\n",
       "      <td>14</td>\n",
       "      <td>20.0</td>\n",
       "      <td>-6.0</td>\n",
       "    </tr>\n",
       "    <tr>\n",
       "      <th>4</th>\n",
       "      <td>Rest-EU</td>\n",
       "      <td>5</td>\n",
       "      <td>Q4 2023</td>\n",
       "      <td>7</td>\n",
       "      <td>2.0</td>\n",
       "      <td>5.0</td>\n",
       "    </tr>\n",
       "    <tr>\n",
       "      <th>5</th>\n",
       "      <td>Spain</td>\n",
       "      <td>50</td>\n",
       "      <td>Q4 2023</td>\n",
       "      <td>18</td>\n",
       "      <td>17.0</td>\n",
       "      <td>1.0</td>\n",
       "    </tr>\n",
       "    <tr>\n",
       "      <th>6</th>\n",
       "      <td>Turkey</td>\n",
       "      <td>70</td>\n",
       "      <td>Q4 2023</td>\n",
       "      <td>25</td>\n",
       "      <td>23.0</td>\n",
       "      <td>2.0</td>\n",
       "    </tr>\n",
       "    <tr>\n",
       "      <th>7</th>\n",
       "      <td>UK</td>\n",
       "      <td>142</td>\n",
       "      <td>Q4 2023</td>\n",
       "      <td>60</td>\n",
       "      <td>47.0</td>\n",
       "      <td>13.0</td>\n",
       "    </tr>\n",
       "  </tbody>\n",
       "</table>\n",
       "</div>"
      ],
      "text/plain": [
       "   Country Forecast     Time  Actuals  Temp_Forecast  Forecast_gap\n",
       "0   Canada       42  Q4 2023        5           14.0          -9.0\n",
       "1   France        5        0        0            2.0          -2.0\n",
       "2    Italy       30  Q4 2023       26           10.0          16.0\n",
       "3    Latam       59  Q4 2023       14           20.0          -6.0\n",
       "4  Rest-EU        5  Q4 2023        7            2.0           5.0\n",
       "5    Spain       50  Q4 2023       18           17.0           1.0\n",
       "6   Turkey       70  Q4 2023       25           23.0           2.0\n",
       "7       UK      142  Q4 2023       60           47.0          13.0"
      ]
     },
     "execution_count": 30,
     "metadata": {},
     "output_type": "execute_result"
    }
   ],
   "source": [
    "EUAA_results"
   ]
  },
  {
   "cell_type": "code",
   "execution_count": 31,
   "metadata": {},
   "outputs": [
    {
     "data": {
      "text/plain": [
       "135.0"
      ]
     },
     "execution_count": 31,
     "metadata": {},
     "output_type": "execute_result"
    }
   ],
   "source": [
    "#Calculate the sum of the forecast gap\n",
    "sum_temp_forcast =EUAA_results[\"Temp_Forecast\"].sum()\n",
    "sum_temp_forcast"
   ]
  },
  {
   "cell_type": "code",
   "execution_count": 32,
   "metadata": {},
   "outputs": [
    {
     "data": {
      "text/plain": [
       "['Forecast',\n",
       " 'Canada',\n",
       " 'France',\n",
       " 'Italy',\n",
       " 'Latam',\n",
       " 'Rest-EU',\n",
       " 'Spain',\n",
       " 'Turkey',\n",
       " 'UK']"
      ]
     },
     "execution_count": 32,
     "metadata": {},
     "output_type": "execute_result"
    }
   ],
   "source": [
    "country_list = EUAA_results[\"Country\"].to_list()\n",
    "country_list.insert(0, \"Forecast\")\n",
    "country_list"
   ]
  },
  {
   "cell_type": "code",
   "execution_count": 33,
   "metadata": {},
   "outputs": [
    {
     "name": "stdout",
     "output_type": "stream",
     "text": [
      "['Forecast', 'Canada', 'France', 'Italy', 'Latam', 'Rest-EU', 'Spain', 'Turkey', 'UK']\n"
     ]
    }
   ],
   "source": [
    "print(country_list)"
   ]
  },
  {
   "cell_type": "code",
   "execution_count": 34,
   "metadata": {},
   "outputs": [],
   "source": [
    "EUAA_results_list = EUAA_results[\"Forecast_gap\"].to_list()"
   ]
  },
  {
   "cell_type": "code",
   "execution_count": 35,
   "metadata": {},
   "outputs": [
    {
     "data": {
      "text/plain": [
       "[-9.0, -2.0, 16.0, -6.0, 5.0, 1.0, 2.0, 13.0]"
      ]
     },
     "execution_count": 35,
     "metadata": {},
     "output_type": "execute_result"
    }
   ],
   "source": [
    "EUAA_results_list"
   ]
  },
  {
   "cell_type": "code",
   "execution_count": 36,
   "metadata": {},
   "outputs": [],
   "source": [
    "EUAA_results_list.insert(0,sum_temp_forcast)\n",
    "#result_list.insert(0,results_by_country._get_value(0,\"Temp_Forecast\"))\n",
    "EUAA_temp_df = pd.Series(EUAA_results_list)\n",
    "EUAA_temp_df = EUAA_temp_df.cumsum()\n",
    "result_list_final = EUAA_temp_df.to_list()"
   ]
  },
  {
   "cell_type": "code",
   "execution_count": 37,
   "metadata": {},
   "outputs": [
    {
     "data": {
      "text/plain": [
       "([135.0, 126.0, 124.0, 140.0, 134.0, 139.0, 140.0, 142.0, 155.0], 9)"
      ]
     },
     "execution_count": 37,
     "metadata": {},
     "output_type": "execute_result"
    }
   ],
   "source": [
    "result_list_final, len(result_list_final)"
   ]
  },
  {
   "cell_type": "code",
   "execution_count": 38,
   "metadata": {},
   "outputs": [
    {
     "name": "stderr",
     "output_type": "stream",
     "text": [
      "/Users/mhausch/Data/Prod_Dashboards/venv/lib/python3.9/site-packages/waterfall_ax/waterfall_ax.py:121: FutureWarning: Series.__getitem__ treating keys as positions is deprecated. In a future version, integer keys will always be treated as labels (consistent with DataFrame behavior). To access a value by position, use `ser.iloc[pos]`\n",
      "  label = '{:,}'.format(int(df_plot[self.delta_col][i]))\n"
     ]
    },
    {
     "data": {
      "image/png": "[encoded data removed]",
      "text/plain": [
       "<Figure size 1000x500 with 1 Axes>"
      ]
     },
     "metadata": {},
     "output_type": "display_data"
    }
   ],
   "source": [
    "waterfall_EUAA = WaterfallChart(result_list_final, step_names=country_list)\n",
    "color_kwargs = {\n",
    "'c_bar_pos': 'lightgreen',\n",
    "'c_bar_neg': 'red',\n",
    "'c_bar_start': 'white',\n",
    "'c_bar_end': 'white',\n",
    "'c_text_pos': 'white',    \n",
    "    'c_text_neg': 'white',\n",
    "    'c_text_start': 'yellow',\n",
    "    'c_text_end': 'yellow'}\n",
    "wf_ax = waterfall_EUAA.plot_waterfall(title=f'Gap Analysis for EUAA by country' , color_kwargs=color_kwargs)\n",
    "plt.savefig(f\"EUAA_gap_analysis.pdf\")"
   ]
  },
  {
   "cell_type": "markdown",
   "metadata": {},
   "source": [
    "### EUAA gap analysis by Product"
   ]
  },
  {
   "cell_type": "code",
   "execution_count": 39,
   "metadata": {},
   "outputs": [],
   "source": [
    "EUAA_forecast = forecast_data.copy()\n",
    "EUAA_sales = all_data.copy()"
   ]
  },
  {
   "cell_type": "code",
   "execution_count": 40,
   "metadata": {},
   "outputs": [
    {
     "data": {
      "text/html": [
       "<div>\n",
       "<style scoped>\n",
       "    .dataframe tbody tr th:only-of-type {\n",
       "        vertical-align: middle;\n",
       "    }\n",
       "\n",
       "    .dataframe tbody tr th {\n",
       "        vertical-align: top;\n",
       "    }\n",
       "\n",
       "    .dataframe thead th {\n",
       "        text-align: right;\n",
       "    }\n",
       "</style>\n",
       "<table border=\"1\" class=\"dataframe\">\n",
       "  <thead>\n",
       "    <tr style=\"text-align: right;\">\n",
       "      <th></th>\n",
       "      <th>Forecaster</th>\n",
       "      <th>Country</th>\n",
       "      <th>Time</th>\n",
       "      <th>Product</th>\n",
       "      <th>5QRF_Starting_Quarter</th>\n",
       "      <th>ASP</th>\n",
       "      <th>Forecast</th>\n",
       "    </tr>\n",
       "  </thead>\n",
       "  <tbody>\n",
       "    <tr>\n",
       "      <th>0</th>\n",
       "      <td>Country</td>\n",
       "      <td>Canada</td>\n",
       "      <td>Q1 2024</td>\n",
       "      <td>G360 CDx</td>\n",
       "      <td>Q4_23</td>\n",
       "      <td>1450</td>\n",
       "      <td>30</td>\n",
       "    </tr>\n",
       "    <tr>\n",
       "      <th>1</th>\n",
       "      <td>Country</td>\n",
       "      <td>Canada</td>\n",
       "      <td>Q1 2024</td>\n",
       "      <td>G360 Infinity</td>\n",
       "      <td>Q4_23</td>\n",
       "      <td>1700</td>\n",
       "      <td>9</td>\n",
       "    </tr>\n",
       "    <tr>\n",
       "      <th>2</th>\n",
       "      <td>Country</td>\n",
       "      <td>Canada</td>\n",
       "      <td>Q1 2024</td>\n",
       "      <td>Reveal</td>\n",
       "      <td>Q4_23</td>\n",
       "      <td>1700</td>\n",
       "      <td>10</td>\n",
       "    </tr>\n",
       "  </tbody>\n",
       "</table>\n",
       "</div>"
      ],
      "text/plain": [
       "  Forecaster Country     Time        Product 5QRF_Starting_Quarter   ASP  \\\n",
       "0    Country  Canada  Q1 2024       G360 CDx                 Q4_23  1450   \n",
       "1    Country  Canada  Q1 2024  G360 Infinity                 Q4_23  1700   \n",
       "2    Country  Canada  Q1 2024         Reveal                 Q4_23  1700   \n",
       "\n",
       "   Forecast  \n",
       "0        30  \n",
       "1         9  \n",
       "2        10  "
      ]
     },
     "execution_count": 40,
     "metadata": {},
     "output_type": "execute_result"
    }
   ],
   "source": [
    "EUAA_forecast.head(3)"
   ]
  },
  {
   "cell_type": "code",
   "execution_count": 41,
   "metadata": {},
   "outputs": [
    {
     "data": {
      "text/html": [
       "<div>\n",
       "<style scoped>\n",
       "    .dataframe tbody tr th:only-of-type {\n",
       "        vertical-align: middle;\n",
       "    }\n",
       "\n",
       "    .dataframe tbody tr th {\n",
       "        vertical-align: top;\n",
       "    }\n",
       "\n",
       "    .dataframe thead th {\n",
       "        text-align: right;\n",
       "    }\n",
       "</style>\n",
       "<table border=\"1\" class=\"dataframe\">\n",
       "  <thead>\n",
       "    <tr style=\"text-align: right;\">\n",
       "      <th></th>\n",
       "      <th>Forecast_Region</th>\n",
       "      <th>Time</th>\n",
       "      <th>Product</th>\n",
       "      <th>Type</th>\n",
       "      <th>Actuals</th>\n",
       "    </tr>\n",
       "    <tr>\n",
       "      <th>Date Received</th>\n",
       "      <th></th>\n",
       "      <th></th>\n",
       "      <th></th>\n",
       "      <th></th>\n",
       "      <th></th>\n",
       "    </tr>\n",
       "  </thead>\n",
       "  <tbody>\n",
       "    <tr>\n",
       "      <th>2020-01-02</th>\n",
       "      <td>UK</td>\n",
       "      <td>Q1 2020</td>\n",
       "      <td>G360 CDx</td>\n",
       "      <td>Commercial</td>\n",
       "      <td>1</td>\n",
       "    </tr>\n",
       "    <tr>\n",
       "      <th>2020-01-02</th>\n",
       "      <td>UK</td>\n",
       "      <td>Q1 2020</td>\n",
       "      <td>G360 CDx</td>\n",
       "      <td>Commercial</td>\n",
       "      <td>1</td>\n",
       "    </tr>\n",
       "    <tr>\n",
       "      <th>2020-01-02</th>\n",
       "      <td>Turkey</td>\n",
       "      <td>Q1 2020</td>\n",
       "      <td>G360 CDx</td>\n",
       "      <td>Commercial</td>\n",
       "      <td>1</td>\n",
       "    </tr>\n",
       "  </tbody>\n",
       "</table>\n",
       "</div>"
      ],
      "text/plain": [
       "              Forecast_Region     Time   Product        Type  Actuals\n",
       "Date Received                                                        \n",
       "2020-01-02                 UK  Q1 2020  G360 CDx  Commercial        1\n",
       "2020-01-02                 UK  Q1 2020  G360 CDx  Commercial        1\n",
       "2020-01-02             Turkey  Q1 2020  G360 CDx  Commercial        1"
      ]
     },
     "execution_count": 41,
     "metadata": {},
     "output_type": "execute_result"
    }
   ],
   "source": [
    "EUAA_sales.head(3)"
   ]
  },
  {
   "cell_type": "code",
   "execution_count": 42,
   "metadata": {},
   "outputs": [],
   "source": [
    "#Select the commercial sampels\n",
    "EUAA_sales_commercial = EUAA_sales[EUAA_sales[\"Type\"] == \"Commercial\"]\n",
    "quarter = \"Q4 2023\"\n",
    "persona = \"Country\"\n",
    "temp = 3\n",
    "Month_into_quarter = 1"
   ]
  },
  {
   "cell_type": "code",
   "execution_count": 43,
   "metadata": {},
   "outputs": [
    {
     "data": {
      "text/html": [
       "<div>\n",
       "<style scoped>\n",
       "    .dataframe tbody tr th:only-of-type {\n",
       "        vertical-align: middle;\n",
       "    }\n",
       "\n",
       "    .dataframe tbody tr th {\n",
       "        vertical-align: top;\n",
       "    }\n",
       "\n",
       "    .dataframe thead th {\n",
       "        text-align: right;\n",
       "    }\n",
       "</style>\n",
       "<table border=\"1\" class=\"dataframe\">\n",
       "  <thead>\n",
       "    <tr style=\"text-align: right;\">\n",
       "      <th></th>\n",
       "      <th>Product</th>\n",
       "      <th>Actuals</th>\n",
       "    </tr>\n",
       "  </thead>\n",
       "  <tbody>\n",
       "    <tr>\n",
       "      <th>0</th>\n",
       "      <td>G360 CDx</td>\n",
       "      <td>127</td>\n",
       "    </tr>\n",
       "    <tr>\n",
       "      <th>1</th>\n",
       "      <td>G360 Infinity</td>\n",
       "      <td>28</td>\n",
       "    </tr>\n",
       "    <tr>\n",
       "      <th>2</th>\n",
       "      <td>Reveal</td>\n",
       "      <td>2</td>\n",
       "    </tr>\n",
       "  </tbody>\n",
       "</table>\n",
       "</div>"
      ],
      "text/plain": [
       "         Product  Actuals\n",
       "0       G360 CDx      127\n",
       "1  G360 Infinity       28\n",
       "2         Reveal        2"
      ]
     },
     "execution_count": 43,
     "metadata": {},
     "output_type": "execute_result"
    }
   ],
   "source": [
    "#Create the sales dataframe for the gap analysis\n",
    "EUAA_gap_product_input = EUAA_sales[EUAA_sales[\"Time\"] == \"Q4 2023\"]\n",
    "EUAA_gap_product_input = EUAA_gap_product_input.groupby([\"Product\"])[\"Actuals\"].sum().reset_index()\n",
    "EUAA_gap_product_input = EUAA_gap_product_input.rename(columns={\"Forecast_Region\":\"Country\"})\n",
    "EUAA_gap_product_input"
   ]
  },
  {
   "cell_type": "code",
   "execution_count": 44,
   "metadata": {},
   "outputs": [
    {
     "data": {
      "text/html": [
       "<div>\n",
       "<style scoped>\n",
       "    .dataframe tbody tr th:only-of-type {\n",
       "        vertical-align: middle;\n",
       "    }\n",
       "\n",
       "    .dataframe tbody tr th {\n",
       "        vertical-align: top;\n",
       "    }\n",
       "\n",
       "    .dataframe thead th {\n",
       "        text-align: right;\n",
       "    }\n",
       "</style>\n",
       "<table border=\"1\" class=\"dataframe\">\n",
       "  <thead>\n",
       "    <tr style=\"text-align: right;\">\n",
       "      <th></th>\n",
       "      <th>Product</th>\n",
       "      <th>Forecast</th>\n",
       "    </tr>\n",
       "  </thead>\n",
       "  <tbody>\n",
       "    <tr>\n",
       "      <th>0</th>\n",
       "      <td>G360 CDx</td>\n",
       "      <td>316</td>\n",
       "    </tr>\n",
       "    <tr>\n",
       "      <th>1</th>\n",
       "      <td>G360 Infinity</td>\n",
       "      <td>57</td>\n",
       "    </tr>\n",
       "    <tr>\n",
       "      <th>2</th>\n",
       "      <td>Reveal</td>\n",
       "      <td>30</td>\n",
       "    </tr>\n",
       "    <tr>\n",
       "      <th>3</th>\n",
       "      <td>Shield</td>\n",
       "      <td>0</td>\n",
       "    </tr>\n",
       "  </tbody>\n",
       "</table>\n",
       "</div>"
      ],
      "text/plain": [
       "         Product  Forecast\n",
       "0       G360 CDx       316\n",
       "1  G360 Infinity        57\n",
       "2         Reveal        30\n",
       "3         Shield         0"
      ]
     },
     "execution_count": 44,
     "metadata": {},
     "output_type": "execute_result"
    }
   ],
   "source": [
    "#Create the forecast dataframe for the gap analysis\n",
    "EUAA_gap_product_forecast = EUAA_forecast.loc[(EUAA_forecast[\"Time\"] == quarter) & (EUAA_forecast[\"Forecaster\"] == persona)]\n",
    "EUAA_gap_product_forecast = EUAA_gap_product_forecast.groupby([\"Product\"])[\"Forecast\"].sum().reset_index()\n",
    "EUAA_gap_product_forecast"
   ]
  },
  {
   "cell_type": "code",
   "execution_count": 45,
   "metadata": {},
   "outputs": [
    {
     "data": {
      "text/html": [
       "<div>\n",
       "<style scoped>\n",
       "    .dataframe tbody tr th:only-of-type {\n",
       "        vertical-align: middle;\n",
       "    }\n",
       "\n",
       "    .dataframe tbody tr th {\n",
       "        vertical-align: top;\n",
       "    }\n",
       "\n",
       "    .dataframe thead th {\n",
       "        text-align: right;\n",
       "    }\n",
       "</style>\n",
       "<table border=\"1\" class=\"dataframe\">\n",
       "  <thead>\n",
       "    <tr style=\"text-align: right;\">\n",
       "      <th></th>\n",
       "      <th>Product</th>\n",
       "      <th>Actuals</th>\n",
       "      <th>Forecast</th>\n",
       "    </tr>\n",
       "  </thead>\n",
       "  <tbody>\n",
       "    <tr>\n",
       "      <th>0</th>\n",
       "      <td>G360 CDx</td>\n",
       "      <td>127</td>\n",
       "      <td>316</td>\n",
       "    </tr>\n",
       "    <tr>\n",
       "      <th>1</th>\n",
       "      <td>G360 Infinity</td>\n",
       "      <td>28</td>\n",
       "      <td>57</td>\n",
       "    </tr>\n",
       "    <tr>\n",
       "      <th>2</th>\n",
       "      <td>Reveal</td>\n",
       "      <td>2</td>\n",
       "      <td>30</td>\n",
       "    </tr>\n",
       "  </tbody>\n",
       "</table>\n",
       "</div>"
      ],
      "text/plain": [
       "         Product  Actuals  Forecast\n",
       "0       G360 CDx      127       316\n",
       "1  G360 Infinity       28        57\n",
       "2         Reveal        2        30"
      ]
     },
     "execution_count": 45,
     "metadata": {},
     "output_type": "execute_result"
    }
   ],
   "source": [
    "EUAA_gap_product_forecast = pd.merge(EUAA_gap_product_input, EUAA_gap_product_forecast, how = \"left\", on=[\"Product\"])\n",
    "EUAA_gap_product_forecast"
   ]
  },
  {
   "cell_type": "code",
   "execution_count": 46,
   "metadata": {},
   "outputs": [],
   "source": [
    "EUAA_gap_product_forecast = EUAA_gap_product_forecast.fillna(0,axis = 1)\n",
    "EUAA_gap_product_forecast[\"Actuals\"] = EUAA_gap_product_forecast[\"Actuals\"].astype(int)\n",
    "EUAA_gap_product_forecast[\"Temp_Forecast\"] = (EUAA_gap_product_forecast[\"Forecast\"]/temp).astype(float).round(0)\n",
    "EUAA_gap_product_forecast[\"Forecast_gap\"] = EUAA_gap_product_forecast[\"Actuals\"] - EUAA_gap_product_forecast[\"Temp_Forecast\"]"
   ]
  },
  {
   "cell_type": "code",
   "execution_count": 47,
   "metadata": {},
   "outputs": [
    {
     "data": {
      "text/html": [
       "<div>\n",
       "<style scoped>\n",
       "    .dataframe tbody tr th:only-of-type {\n",
       "        vertical-align: middle;\n",
       "    }\n",
       "\n",
       "    .dataframe tbody tr th {\n",
       "        vertical-align: top;\n",
       "    }\n",
       "\n",
       "    .dataframe thead th {\n",
       "        text-align: right;\n",
       "    }\n",
       "</style>\n",
       "<table border=\"1\" class=\"dataframe\">\n",
       "  <thead>\n",
       "    <tr style=\"text-align: right;\">\n",
       "      <th></th>\n",
       "      <th>Product</th>\n",
       "      <th>Actuals</th>\n",
       "      <th>Forecast</th>\n",
       "      <th>Temp_Forecast</th>\n",
       "      <th>Forecast_gap</th>\n",
       "    </tr>\n",
       "  </thead>\n",
       "  <tbody>\n",
       "    <tr>\n",
       "      <th>0</th>\n",
       "      <td>G360 CDx</td>\n",
       "      <td>127</td>\n",
       "      <td>316</td>\n",
       "      <td>105.0</td>\n",
       "      <td>22.0</td>\n",
       "    </tr>\n",
       "    <tr>\n",
       "      <th>1</th>\n",
       "      <td>G360 Infinity</td>\n",
       "      <td>28</td>\n",
       "      <td>57</td>\n",
       "      <td>19.0</td>\n",
       "      <td>9.0</td>\n",
       "    </tr>\n",
       "    <tr>\n",
       "      <th>2</th>\n",
       "      <td>Reveal</td>\n",
       "      <td>2</td>\n",
       "      <td>30</td>\n",
       "      <td>10.0</td>\n",
       "      <td>-8.0</td>\n",
       "    </tr>\n",
       "  </tbody>\n",
       "</table>\n",
       "</div>"
      ],
      "text/plain": [
       "         Product  Actuals Forecast  Temp_Forecast  Forecast_gap\n",
       "0       G360 CDx      127      316          105.0          22.0\n",
       "1  G360 Infinity       28       57           19.0           9.0\n",
       "2         Reveal        2       30           10.0          -8.0"
      ]
     },
     "execution_count": 47,
     "metadata": {},
     "output_type": "execute_result"
    }
   ],
   "source": [
    "EUAA_gap_product_forecast"
   ]
  },
  {
   "cell_type": "code",
   "execution_count": 48,
   "metadata": {},
   "outputs": [
    {
     "data": {
      "text/plain": [
       "134.0"
      ]
     },
     "execution_count": 48,
     "metadata": {},
     "output_type": "execute_result"
    }
   ],
   "source": [
    "#Calculate the sum of the forecast gap\n",
    "sum_temp_forcast_prod =EUAA_gap_product_forecast[\"Temp_Forecast\"].sum()\n",
    "sum_temp_forcast_prod \n"
   ]
  },
  {
   "cell_type": "code",
   "execution_count": 49,
   "metadata": {},
   "outputs": [
    {
     "data": {
      "text/plain": [
       "['Forecast', 'G360 CDx', 'G360 Infinity', 'Reveal']"
      ]
     },
     "execution_count": 49,
     "metadata": {},
     "output_type": "execute_result"
    }
   ],
   "source": [
    "prod_list = EUAA_gap_product_forecast[\"Product\"].to_list()\n",
    "prod_list.insert(0, \"Forecast\")\n",
    "prod_list"
   ]
  },
  {
   "cell_type": "code",
   "execution_count": 51,
   "metadata": {},
   "outputs": [],
   "source": [
    "EUAA_results_list_prod = EUAA_gap_product_forecast[\"Forecast_gap\"].to_list()\n",
    "EUAA_results_list_prod.insert(0,sum_temp_forcast_prod)"
   ]
  },
  {
   "cell_type": "code",
   "execution_count": 52,
   "metadata": {},
   "outputs": [
    {
     "data": {
      "text/plain": [
       "[134.0, 22.0, 9.0, -8.0]"
      ]
     },
     "execution_count": 52,
     "metadata": {},
     "output_type": "execute_result"
    }
   ],
   "source": [
    "EUAA_results_list_prod"
   ]
  },
  {
   "cell_type": "code",
   "execution_count": 53,
   "metadata": {},
   "outputs": [],
   "source": [
    "EUAA_temp_df_prod = pd.Series(EUAA_results_list_prod)\n",
    "EUAA_temp_df_prod = EUAA_temp_df_prod.cumsum()\n",
    "result_list_final_prod = EUAA_temp_df_prod.to_list()"
   ]
  },
  {
   "cell_type": "code",
   "execution_count": 54,
   "metadata": {},
   "outputs": [
    {
     "data": {
      "text/plain": [
       "[134.0, 156.0, 165.0, 157.0]"
      ]
     },
     "execution_count": 54,
     "metadata": {},
     "output_type": "execute_result"
    }
   ],
   "source": [
    "result_list_final_prod"
   ]
  },
  {
   "cell_type": "code",
   "execution_count": null,
   "metadata": {},
   "outputs": [],
   "source": [
    "step_names_EUAA_by_product = EUAA_gap_product_forecast[\"Product\"].to_list()\n",
    "step_names_EUAA_by_product"
   ]
  },
  {
   "cell_type": "code",
   "execution_count": 55,
   "metadata": {},
   "outputs": [
    {
     "name": "stderr",
     "output_type": "stream",
     "text": [
      "/Users/mhausch/Data/Prod_Dashboards/venv/lib/python3.9/site-packages/waterfall_ax/waterfall_ax.py:121: FutureWarning: Series.__getitem__ treating keys as positions is deprecated. In a future version, integer keys will always be treated as labels (consistent with DataFrame behavior). To access a value by position, use `ser.iloc[pos]`\n",
      "  label = '{:,}'.format(int(df_plot[self.delta_col][i]))\n"
     ]
    },
    {
     "data": {
      "image/png": "[encoded data removed]",
      "text/plain": [
       "<Figure size 1000x500 with 1 Axes>"
      ]
     },
     "metadata": {},
     "output_type": "display_data"
    }
   ],
   "source": [
    "waterfall_EUAA = WaterfallChart(result_list_final_prod,step_names= prod_list )\n",
    "color_kwargs = {\n",
    "'c_bar_pos': 'lightgreen',\n",
    "'c_bar_neg': 'orange',\n",
    "'c_bar_start': 'white',\n",
    "'c_bar_end': 'white',\n",
    "'c_text_pos': 'white',    \n",
    "    'c_text_neg': 'white',\n",
    "    'c_text_start': 'yellow',\n",
    "    'c_text_end': 'yellow'}\n",
    "wf_ax = waterfall_EUAA.plot_waterfall(title=f'Gap Analysis for EUAA by product' , color_kwargs=color_kwargs)\n",
    "plt.savefig(f\"EUAA_gap_analysis_by_product.pdf\")"
   ]
  }
 ],
 "metadata": {
  "kernelspec": {
   "display_name": "envs",
   "language": "python",
   "name": "python3"
  },
  "language_info": {
   "codemirror_mode": {
    "name": "ipython",
    "version": 3
   },
   "file_extension": ".py",
   "mimetype": "text/x-python",
   "name": "python",
   "nbconvert_exporter": "python",
   "pygments_lexer": "ipython3",
   "version": "3.9.13"
  }
 },
 "nbformat": 4,
 "nbformat_minor": 2
}
