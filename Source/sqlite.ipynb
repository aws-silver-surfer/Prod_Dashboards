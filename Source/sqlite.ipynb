{
 "cells": [
  {
   "cell_type": "code",
   "execution_count": 1,
   "metadata": {},
   "outputs": [],
   "source": [
    "import sqlite3\n",
    "import pandas as pd"
   ]
  },
  {
   "cell_type": "code",
   "execution_count": 4,
   "metadata": {},
   "outputs": [
    {
     "data": {
      "text/plain": [
       "((5601, 5),\n",
       "   Forecast_Region     Time   Product        Type  Actuals\n",
       " 0              UK  Q1 2020  G360 CDx  Commercial        1\n",
       " 1              UK  Q1 2020  G360 CDx  Commercial        1\n",
       " 2          Turkey  Q1 2020  G360 CDx  Commercial        1\n",
       " 3          Turkey  Q1 2020  G360 CDx  Commercial        1\n",
       " 4           Spain  Q1 2020  G360 CDx  Commercial        1)"
      ]
     },
     "execution_count": 4,
     "metadata": {},
     "output_type": "execute_result"
    }
   ],
   "source": [
    "data = pd.read_csv(\"/Users/mhausch/Data/Prod_Dashboards/Data/commercial_samples.csv\")\n",
    "data.shape, data.head()"
   ]
  }
 ],
 "metadata": {
  "kernelspec": {
   "display_name": "venv",
   "language": "python",
   "name": "python3"
  },
  "language_info": {
   "codemirror_mode": {
    "name": "ipython",
    "version": 3
   },
   "file_extension": ".py",
   "mimetype": "text/x-python",
   "name": "python",
   "nbconvert_exporter": "python",
   "pygments_lexer": "ipython3",
   "version": "3.9.13"
  }
 },
 "nbformat": 4,
 "nbformat_minor": 2
}
